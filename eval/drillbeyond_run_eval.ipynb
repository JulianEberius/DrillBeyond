{
 "metadata": {
  "name": "",
  "signature": "sha256:29e59867f5a5dff7ebf63375926bac08346b49c0985bcf19818682ff137e4051"
 },
 "nbformat": 3,
 "nbformat_minor": 0,
 "worksheets": [
  {
   "cells": [
    {
     "cell_type": "markdown",
     "metadata": {},
     "source": [
      "Imports\n",
      "-----------"
     ]
    },
    {
     "cell_type": "code",
     "collapsed": false,
     "input": [
      "%matplotlib inline\n",
      "\n",
      "import psycopg2\n",
      "import pickle\n",
      "from enum import Enum\n",
      "from time import time,sleep, strftime\n",
      "import os.path\n",
      "import pandas as pd\n",
      "import numpy as np\n",
      "from pandas import MultiIndex, DataFrame, Series\n",
      "from matplotlib import pyplot as plt\n",
      "from contextlib import contextmanager\n",
      "import requests\n",
      "from itertools import product\n",
      "from collections import defaultdict\n",
      "import sqlite3\n",
      "\n",
      "USER = \"ebi\"\n",
      "#HOST = \"141.76.47.133\"\n",
      "#REA_HOST = \"141.76.47.133\"\n",
      "REA_HOST = \"127.0.0.1\"\n",
      "REA_PORT = 8765\n",
      "\n",
      "HOST = \"localhost\"\n",
      "DATABASE = \"tpch\"\n",
      "\n",
      "tableau20 = [(31, 119, 180), (174, 199, 232), (255, 127, 14), (255, 187, 120),  \n",
      "             (44, 160, 44), (152, 223, 138), (214, 39, 40), (255, 152, 150),  \n",
      "             (148, 103, 189), (197, 176, 213), (140, 86, 75), (196, 156, 148),  \n",
      "             (227, 119, 194), (247, 182, 210), (127, 127, 127), (199, 199, 199),  \n",
      "             (188, 189, 34), (219, 219, 141), (23, 190, 207), (158, 218, 229)]\n",
      "\n",
      "for i in range(len(tableau20)):  \n",
      "    r, g, b = tableau20[i]  \n",
      "    tableau20[i] = (r / 255., g / 255., b / 255.)\n"
     ],
     "language": "python",
     "metadata": {},
     "outputs": [],
     "prompt_number": 1
    },
    {
     "cell_type": "markdown",
     "metadata": {},
     "source": [
      "Queries\n",
      "-------"
     ]
    },
    {
     "cell_type": "code",
     "collapsed": false,
     "input": [
      "def tpch_query(num):\n",
      "    return (\"queries/drb/{}.sql\".format(num) , \"tpch\")\n",
      "def tpch_basic_query(num):\n",
      "    return (\"queries/{}.sql\".format(num) , \"tpch\")"
     ],
     "language": "python",
     "metadata": {},
     "outputs": [],
     "prompt_number": 2
    },
    {
     "cell_type": "markdown",
     "metadata": {},
     "source": [
      "Measurements\n",
      "-----------"
     ]
    },
    {
     "cell_type": "code",
     "collapsed": false,
     "input": [
      "SET_K = '''set drb_max_num_cands = {};'''\n",
      "\n",
      "DISABLE_FLAG = '''set drb_{} = off;'''\n",
      "\n",
      "ENABLE_FLAG = '''set drb_{} = on;'''\n",
      "\n",
      "SET_FLAG = '''set drb_{} = {};'''\n",
      "\n",
      "NUM_MEASUREMENTS = 3\n",
      "\n",
      "DEFAULT_FUZZINESS = 0.3\n",
      "\n",
      "class Flags(Enum):\n",
      "    MAX_NUM_CANDS = \"max_num_cands\"\n",
      "    \n",
      "    BASIC_CACHE = \"enable_basic_cache\"\n",
      "    REWIND_CACHE = \"enable_rewind_cache\"\n",
      "    ADDITIONAL_CACHE = \"enable_additional_cache\"\n",
      "    BIG_OMEGA = \"enable_big_omega\"\n",
      "    SEND_ISNUMERIC_CONSTRAINT = \"enable_send_isnumeric_constraint\"\n",
      "    PULL_UP_SELECTION = \"enable_pull_up_selection\"\n",
      "    SEND_PREDICATES = \"enable_send_predicates\"\n",
      "    PULL_UP_PROJECTION = \"enable_pull_up_projection\"\n",
      "    FORCE_BIG_OMEGA_BEFORE_AGG = \"enable_force_big_omega_before_agg\"\n",
      "    SELECTIVITY_ESTIMATION = \"enable_selectivity_estimation\"\n",
      "    REA = \"enable_rea\"\n",
      "    DYNAMIC_OMEGA = \"enable_dynamic_omega\"\n",
      "    COST_MODEL = \"cost_model\"\n",
      "    REOPTIMIZATION = \"enable_reoptimization\"\n",
      "    PRESELECTION = \"enable_preselection\"\n",
      "    STATIC_REOPTIMIZATION = \"enable_static_reoptimization\"\n",
      "    \n",
      "    SELECTIVITY = \"selectivity\"\n",
      "    FUZZINESS = \"fuzziness\"\n",
      "    FIXED_COST = \"fixed_cost\"\n",
      "    \n",
      "\n",
      "    \n",
      "COST_ONLY_S = 1\n",
      "COST_NONE = 2\n",
      "COST_ONLY_K = 3\n",
      "COST_BOTH = 4\n",
      "\n",
      "    \n",
      "@contextmanager\n",
      "def configure_rea(sel=None, fuzziness=None):\n",
      "    if sel:\n",
      "        requests.get(\"http://%s:%s/set_selectivity/%s\" % (REA_HOST, REA_PORT, sel))\n",
      "    if fuzziness:\n",
      "        requests.get(\"http://%s:%s/set_fuzziness/%s\" % (REA_HOST, REA_PORT, fuzziness))\n",
      "\n",
      "    yield (sel, fuzziness)\n",
      "    \n",
      "    if sel:\n",
      "        requests.get(\"http://%s:%s/set_selectivity/%s\" % (REA_HOST, REA_PORT, 1.0))\n",
      "    if fuzziness:\n",
      "        requests.get(\"http://%s:%s/set_fuzziness/%s\" % (REA_HOST, REA_PORT, 1.0))\n",
      "    \n",
      "@contextmanager\n",
      "def noop(*args, **kwargs):\n",
      "    yield\n",
      "    \n",
      "def set_k(cr, k):\n",
      "    cr.execute(SET_FLAG.format(Flags.MAX_NUM_CANDS.value, k))\n",
      "\n",
      "\n",
      "def disable(cr, flag):\n",
      "    cr.execute(DISABLE_FLAG.format(flag.value))\n",
      "\n",
      "\n",
      "def enable(cr, flag):\n",
      "    cr.execute(ENABLE_FLAG.format(flag.value))\n",
      "    \n",
      "    \n",
      "def set_flag(cr, flag, val):\n",
      "    cr.execute(SET_FLAG.format(flag.value, val))\n",
      "    \n",
      "\n",
      "def set_flags(cr, flags):\n",
      "    for flag, value in flags.items():\n",
      "        if value is True:\n",
      "            enable(cr, flag)\n",
      "        elif value is False:\n",
      "            disable(cr, flag)\n",
      "        else:\n",
      "            set_flag(cr, flag, value)\n",
      "\n",
      "\n",
      "MAX_TRIES = 5\n",
      "            \n",
      "def connect(db=\"tpch\"):\n",
      "    tries = 0\n",
      "    while True:\n",
      "        try:\n",
      "            conn = psycopg2.connect(\n",
      "                user=USER, host=HOST, database=DATABASE)\n",
      "            return conn\n",
      "        except Exception, e:\n",
      "            if tries < MAX_TRIES:\n",
      "                tries += 1\n",
      "                sleep(5)\n",
      "            else:\n",
      "                raise e\n",
      "\n",
      "\n",
      "def measure(f):\n",
      "    t1 = time()\n",
      "    f()\n",
      "    t2 = time()\n",
      "    return t2 - t1\n",
      "\n",
      "\n",
      "def exec_query(c, q):\n",
      "    c.execute(q)\n",
      "    c.fetchall()\n",
      "\n",
      "\n",
      "def load_query(q, variables=None):\n",
      "    qf, db = q\n",
      "    if os.path.isfile(qf):\n",
      "        with open(qf) as f:\n",
      "            qf = f.read()\n",
      "\n",
      "    if variables:\n",
      "        qf = qf.format(**variables)\n",
      "\n",
      "    return qf, db\n",
      "\n",
      "\n",
      "def explain(q, k=1, flags={}, variables={}):\n",
      "    qstr, db = load_query(q)\n",
      "    conn = connect(db)\n",
      "    c = conn.cursor()\n",
      "    set_flags(c, flags)\n",
      "    set_k(c, k)\n",
      "    c.execute(\"explain \"+qstr)\n",
      "    rows = c.fetchall()\n",
      "    print \"\\n\".join(r[0] for r in rows)\n",
      "\n",
      "\n",
      "def explain_analyze(q, k=1, flags={}, variables={}):\n",
      "    qstr, db = load_query(q)\n",
      "    conn = connect(db)\n",
      "    c = conn.cursor()\n",
      "    set_flags(c, flags)\n",
      "    set_k(c, k)\n",
      "    c.execute(\"explain analyze \"+qstr)\n",
      "    rows = c.fetchall()\n",
      "    print \"\\n\".join(r[0] for r in rows)\n",
      "\n",
      "def show_query_result(q, k=1, flags={}, variables={}):\n",
      "    qstr, db = load_query(q)\n",
      "    conn = connect(db)\n",
      "    c = conn.cursor()\n",
      "    set_flags(c, flags)\n",
      "    set_k(c, k)\n",
      "    c.execute(qstr)\n",
      "    rows = c.fetchall()\n",
      "    print \"\\n\".join(str(r) for r in rows)\n",
      "    \n",
      "def run_query(q, K=[10], flags={}, variables={}, measurements=NUM_MEASUREMENTS):\n",
      "    qstr, db = load_query(q)\n",
      "    conn = connect(db)\n",
      "    c = conn.cursor()\n",
      "    set_flags(c, flags)\n",
      "    if not isinstance(variables, list):\n",
      "        variables = [variables]\n",
      "    times = []\n",
      "    for v in variables:\n",
      "        qstr_applied = qstr.format(**v)\n",
      "        for k in K:\n",
      "            set_k(c, k)\n",
      "            time = 0.0\n",
      "            print \"exec: \", q, \" \", k\n",
      "            for _ in range(measurements):\n",
      "                time += measure(lambda: exec_query(c, qstr_applied))\n",
      "            time /= float(measurements)\n",
      "            times.append(time)\n",
      "    \n",
      "    return times\n",
      "        "
     ],
     "language": "python",
     "metadata": {},
     "outputs": [],
     "prompt_number": 20
    },
    {
     "cell_type": "code",
     "collapsed": false,
     "input": [
      "def _run(sel, q_num, flags, name, S, variables={}):\n",
      "    s_name = \"%s_%s\" % (name, sel)\n",
      "    print \"RUNNING: s_name\", s_name, \"-\", q_num\n",
      "    if any(series.name == s_name for series in S):\n",
      "        print \"already contained, skipping\"\n",
      "        return\n",
      "    print \"Flags:\", flags\n",
      "    if isinstance(q_num, tuple):\n",
      "        q = q_num\n",
      "    else:\n",
      "        q = tpch_query(q_num)\n",
      "    t = run_query(q, measurements=m, K=K, flags=flags, variables={})\n",
      "    series = Series(t, index=K, name=s_name)\n",
      "    S.append(series)\n",
      "    print \"DONE: s_name\", s_name\n",
      "    print"
     ],
     "language": "python",
     "metadata": {},
     "outputs": [],
     "prompt_number": 13
    },
    {
     "cell_type": "markdown",
     "metadata": {},
     "source": [
      "Evaluation Helpers\n",
      "----------"
     ]
    },
    {
     "cell_type": "code",
     "collapsed": false,
     "input": [
      "def to_relation_fragment(y,q):\n",
      "    name, sel = y.name.split(\"_\")[:2]\n",
      "    y.index.name=\"k\"\n",
      "    y = y.reset_index()\n",
      "    name, sel = y.columns[1].split(\"_\")[:2]\n",
      "\n",
      "    y['method'] = len(y) * [name]\n",
      "    y['sel'] = len(y) * [sel]\n",
      "    y['Q'] = len(y) * [q]\n",
      "    y = y.rename(columns={y.columns[1]:\"time\"})\n",
      "    return y\n",
      "\n",
      "def universal_df(S):\n",
      "    df = pd.concat([to_relation_fragment(v,k) for k,lst in S.iteritems() for v in lst], ignore_index=True).convert_objects(convert_numeric=True)\n",
      "    df = df.set_index([\"Q\",\"k\",\"method\",\"sel\"]).sortlevel().unstack(2)\n",
      "    return df\n",
      "\n",
      "def diffToMin(Z,algos):\n",
      "    n = len(algos)\n",
      "    Z = Z.copy()\n",
      "    Z['min'] = Z.apply(lambda row: min(row), axis=1)\n",
      "\n",
      "    for c in algos:\n",
      "        Z[c+'Diff'] = Z[c] - Z['min'] + 0.00001\n",
      "\n",
      "    return Z.iloc#[:,n+1:]\n"
     ],
     "language": "python",
     "metadata": {},
     "outputs": [],
     "prompt_number": 5
    },
    {
     "cell_type": "code",
     "collapsed": false,
     "input": [
      "class Scenarios(Enum):\n",
      "    noOpt = \"noOpt\"\n",
      "    basicOpt = \"basicOpt\"\n",
      "    omegaAtTop = \"omegaAtTop\"\n",
      "    bigOmega = \"bigOmega\"\n",
      "    bigOmegaDynamic = \"bigOmegaDynamic\"\n",
      "    bigOmegaDynamicPreSel = \"bigOmegaDynamicPreSel\"\n",
      "    bigOmegaDynamicStaticReOpt = \"bigOmegaDynamicStaticReOpt\"\n",
      "\n",
      "    basicOptDefS = \"basicOptDefS\" \n",
      "    omegaAtTopDefS = \"omegaAtTopDefS\"\n",
      "\n",
      "    bigOmegaDefS = \"bigOmegaDefS\"\n",
      "    bigOmegaPreSelDefS = \"bigOmegaPreSelDefS\"\n",
      "    \n",
      "    bigOmegaDynamicDefS = \"bigOmegaDynamicDefS\" \n",
      "    bigOmegaDynamicPreSelDefS = \"bigOmegaDynamicPreSelDefS\" \n",
      "    \n",
      "    bigOmegaDynamicReOptDefS = \"bigOmegaDynamicReOptDefS\"\n",
      "    bigOmegaDynamicReOptPreSelDefS = \"bigOmegaDynamicReOptPreSelDefS\"\n",
      "    \n",
      "    bigOmegaReOptDefS = \"bigOmegaReOptDefS\"\n",
      "    bigOmegaReOptPreSelDefS = \"bigOmegaReOptPreSelDefS\"\n",
      "    \n",
      "    bigOmegaDynamicStaticReOptDefS = \"bigOmegaDynamicStaticReOptDefS\"\n",
      "    bigOmegaDynamicStaticReOptPreSelDefS = \"bigOmegaDynamicStaticReOptPreSelDefS\"\n",
      "    \n",
      "\n",
      "scenarios = {\n",
      "            Scenarios.noOpt: {Flags.REWIND_CACHE:False, Flags.ADDITIONAL_CACHE:False, Flags.BASIC_CACHE:False},\n",
      "            Scenarios.basicOpt: {},\n",
      "            Scenarios.omegaAtTop: {Flags.FIXED_COST:0.000001}, \n",
      "            Scenarios.bigOmega: {Flags.BIG_OMEGA:True, Flags.FORCE_BIG_OMEGA_BEFORE_AGG:True, Flags.PULL_UP_SELECTION:True},\n",
      "            Scenarios.bigOmegaDynamic: {Flags.DYNAMIC_OMEGA:True, Flags.BIG_OMEGA:True, Flags.FORCE_BIG_OMEGA_BEFORE_AGG:True, Flags.PULL_UP_SELECTION:True},\n",
      "            Scenarios.bigOmegaDynamicStaticReOpt: {Flags.BIG_OMEGA:True, Flags.FORCE_BIG_OMEGA_BEFORE_AGG:True,  Flags.PULL_UP_SELECTION:True, \n",
      "                                          Flags.REOPTIMIZATION:True, Flags.DYNAMIC_OMEGA:True, Flags.STATIC_REOPTIMIZATION:True},\n",
      "       }\n",
      "\n",
      "scenariosS = {\n",
      "            Scenarios.noOpt: {Flags.REWIND_CACHE:False, Flags.ADDITIONAL_CACHE:False, Flags.BASIC_CACHE:False},\n",
      "            Scenarios.basicOptDefS: {},\n",
      "            Scenarios.omegaAtTopDefS: {Flags.FIXED_COST:0.000001}, \n",
      "\n",
      "            Scenarios.bigOmegaDefS: {Flags.BIG_OMEGA:True, Flags.FORCE_BIG_OMEGA_BEFORE_AGG:True, Flags.PULL_UP_SELECTION:True},\n",
      "            Scenarios.bigOmegaPreSelDefS: {Flags.BIG_OMEGA:True, Flags.FORCE_BIG_OMEGA_BEFORE_AGG:True,  Flags.PULL_UP_SELECTION:True, \n",
      "                                          Flags.PRESELECTION:True},            \n",
      "\n",
      "            Scenarios.bigOmegaDynamicDefS: {Flags.DYNAMIC_OMEGA:True, Flags.BIG_OMEGA:True, Flags.FORCE_BIG_OMEGA_BEFORE_AGG:True, Flags.PULL_UP_SELECTION:True},\n",
      "            Scenarios.bigOmegaDynamicPreSelDefS: {Flags.DYNAMIC_OMEGA:True, Flags.BIG_OMEGA:True, Flags.FORCE_BIG_OMEGA_BEFORE_AGG:True, Flags.PULL_UP_SELECTION:True,\n",
      "                                            Flags.PRESELECTION:True},\n",
      "\n",
      "#            Scenarios.bigOmegaDynamicReOptDefS: {Flags.DYNAMIC_OMEGA:True, Flags.BIG_OMEGA:True, Flags.FORCE_BIG_OMEGA_BEFORE_AGG:True, \n",
      "#                                     Flags.PULL_UP_SELECTION:True, Flags.REOPTIMIZATION:True},\n",
      "#            Scenarios.bigOmegaDynamicReOptPreSelDefS: {Flags.BIG_OMEGA:True, Flags.FORCE_BIG_OMEGA_BEFORE_AGG:True, Flags.PULL_UP_SELECTION:True,\n",
      "#                                           Flags.DYNAMIC_OMEGA:True, Flags.REOPTIMIZATION:True, Flags.PRESELECTION:True},\n",
      "\n",
      "#            Scenarios.bigOmegaReOptDefS: {Flags.BIG_OMEGA:True, Flags.FORCE_BIG_OMEGA_BEFORE_AGG:True, Flags.PULL_UP_SELECTION:True, \n",
      "#                                          Flags.REOPTIMIZATION:True},\n",
      "#            Scenarios.bigOmegaReOptPreSelDefS: {Flags.BIG_OMEGA:True, Flags.FORCE_BIG_OMEGA_BEFORE_AGG:True,  Flags.PULL_UP_SELECTION:True, \n",
      "#                                          Flags.REOPTIMIZATION:True, Flags.PRESELECTION:True},\n",
      "\n",
      "\n",
      "            Scenarios.bigOmegaDynamicStaticReOptDefS: {Flags.BIG_OMEGA:True, Flags.FORCE_BIG_OMEGA_BEFORE_AGG:True,  Flags.PULL_UP_SELECTION:True, \n",
      "                                          Flags.REOPTIMIZATION:True, Flags.DYNAMIC_OMEGA:True, Flags.STATIC_REOPTIMIZATION:True},\n",
      "            Scenarios.bigOmegaDynamicStaticReOptPreSelDefS: {Flags.BIG_OMEGA:True, Flags.FORCE_BIG_OMEGA_BEFORE_AGG:True,  Flags.PULL_UP_SELECTION:True, \n",
      "                                          Flags.REOPTIMIZATION:True, Flags.DYNAMIC_OMEGA:True, Flags.STATIC_REOPTIMIZATION:True, Flags.PRESELECTION:True},\n",
      "}\n"
     ],
     "language": "python",
     "metadata": {},
     "outputs": [],
     "prompt_number": 6
    },
    {
     "cell_type": "code",
     "collapsed": false,
     "input": [
      "#sels =  [1.0,0.5,0.1,0.01,0.9,0.2,0.8,0.3,0.7,0.4,0.6]\n",
      "#sels = [0.01] + (np.logspace(0.0,0.9,8) / 10.0) + [0.9]\n",
      "sels = [0.01] + [round(x / 10.0,2) for x in np.logspace(0.0,0.9,8)] + [0.99]\n",
      "#sels = [0.1]\n",
      "Q_NUMS = [2, 3, 5, 7, 8, 9, 10, 14, 16, 17]\n",
      "errors = []\n",
      "K = [1,3,5,10]\n",
      "m=2\n",
      "\n",
      "def run_experiments(result, scenarios, fn_name, setup_func=None):\n",
      "    log_f = open(\"%s.log\" % fn_name, \"w\", 1)\n",
      "    def log(s):\n",
      "        print s\n",
      "        log_f.write(s)\n",
      "        log_f.write(\"\\n\")\n",
      "        \n",
      "    for s in sels:\n",
      "        with configure_rea(s, DEFAULT_FUZZINESS):\n",
      "            for q_num in Q_NUMS:\n",
      "                S = result[q_num]\n",
      "                for e, flags in scenarios.items():\n",
      "                    name = e.value\n",
      "                    flags = flags.copy()\n",
      "                    tries = 0\n",
      "                    log(\"[%s] starting sel %s, query %s, scenario %s\" % (strftime('%X %x'), s, q_num, name))\n",
      "                    while True:\n",
      "                        try:\n",
      "                            tries += 1\n",
      "                            if setup_func:\n",
      "                                setup_func(name, flags, s, q_num)\n",
      "                            _run(s, q_num, flags, name, S)\n",
      "                            break\n",
      "                        except Exception, e:\n",
      "                            print \"exception with query\", q_num, \":\", e\n",
      "                            errors.append((q_num,s,name, e))\n",
      "                            sleep(10)\n",
      "                            if tries >= 3:\n",
      "                                print \"retried 3 times, giving up with\", q_num, \":\", e\n",
      "                                break\n",
      "                        print \"finished\", name, \"with\", s\n",
      "            \n",
      "    with open(\"%s.pickle\" % fn_name, \"w\") as f:\n",
      "        pickle.dump(ALL_S, f)\n",
      "    with open(\"%s_ERROR.pickle\" % fn_name, \"w\") as f:\n",
      "        pickle.dump(errors, f)\n",
      "    log_f.close()\n",
      "\n",
      "def setup_sel_to_flags(name, flags, s, q_num):\n",
      "    flags[Flags.SELECTIVITY] = s\n",
      "    \n",
      "    "
     ],
     "language": "python",
     "metadata": {},
     "outputs": [],
     "prompt_number": 7
    },
    {
     "cell_type": "markdown",
     "metadata": {},
     "source": [
      "Run Experiments\n",
      "-------------"
     ]
    },
    {
     "cell_type": "code",
     "collapsed": false,
     "input": [
      "ALL_S = defaultdict(list)"
     ],
     "language": "python",
     "metadata": {},
     "outputs": [],
     "prompt_number": 8
    },
    {
     "cell_type": "code",
     "collapsed": true,
     "input": [
      "run_experiments(ALL_S, scenariosS, \"runtimes\")"
     ],
     "language": "python",
     "metadata": {},
     "outputs": [
      {
       "output_type": "stream",
       "stream": "stdout",
       "text": [
        "[18:05:03 03/24/15] starting sel 0.01, query 2, scenario noOpt\n",
        "RUNNING: s_name noOpt_0.01 - 2\n",
        "Flags: {<Flags.ADDITIONAL_CACHE: 'enable_additional_cache'>: False, <Flags.REWIND_CACHE: 'enable_rewind_cache'>: False, <Flags.BASIC_CACHE: 'enable_basic_cache'>: False}\n",
        "exec:  ('queries/drb/2.sql', 'tpch')   1\n",
        "exception with query 2 : syntax error at or near \"queries\"\n",
        "LINE 1: queries/drb/2.sql\n",
        "        ^\n",
        "\n",
        "finished"
       ]
      },
      {
       "output_type": "stream",
       "stream": "stdout",
       "text": [
        " noOpt with 0.01\n",
        "RUNNING: s_name noOpt_0.01 - 2\n",
        "Flags: {<Flags.ADDITIONAL_CACHE: 'enable_additional_cache'>: False, <Flags.REWIND_CACHE: 'enable_rewind_cache'>: False, <Flags.BASIC_CACHE: 'enable_basic_cache'>: False}\n",
        "exec:  ('queries/drb/2.sql', 'tpch')   1\n",
        "exception with query 2 : syntax error at or near \"queries\"\n",
        "LINE 1: queries/drb/2.sql\n",
        "        ^\n",
        "\n"
       ]
      },
      {
       "ename": "KeyboardInterrupt",
       "evalue": "",
       "output_type": "pyerr",
       "traceback": [
        "\u001b[0;31m---------------------------------------------------------------------------\u001b[0m\n\u001b[0;31mKeyboardInterrupt\u001b[0m                         Traceback (most recent call last)",
        "\u001b[0;32m<ipython-input-9-67c0084087cd>\u001b[0m in \u001b[0;36m<module>\u001b[0;34m()\u001b[0m\n\u001b[0;32m----> 1\u001b[0;31m \u001b[0mrun_experiments\u001b[0m\u001b[0;34m(\u001b[0m\u001b[0mALL_S\u001b[0m\u001b[0;34m,\u001b[0m \u001b[0mscenariosS\u001b[0m\u001b[0;34m,\u001b[0m \u001b[0;34m\"runtimes\"\u001b[0m\u001b[0;34m)\u001b[0m\u001b[0;34m\u001b[0m\u001b[0m\n\u001b[0m",
        "\u001b[0;32m<ipython-input-7-a6b67ee5b3d8>\u001b[0m in \u001b[0;36mrun_experiments\u001b[0;34m(result, scenarios, fn_name, setup_func)\u001b[0m\n\u001b[1;32m     34\u001b[0m                             \u001b[0;32mprint\u001b[0m \u001b[0;34m\"exception with query\"\u001b[0m\u001b[0;34m,\u001b[0m \u001b[0mq_num\u001b[0m\u001b[0;34m,\u001b[0m \u001b[0;34m\":\"\u001b[0m\u001b[0;34m,\u001b[0m \u001b[0me\u001b[0m\u001b[0;34m\u001b[0m\u001b[0m\n\u001b[1;32m     35\u001b[0m                             \u001b[0merrors\u001b[0m\u001b[0;34m.\u001b[0m\u001b[0mappend\u001b[0m\u001b[0;34m(\u001b[0m\u001b[0;34m(\u001b[0m\u001b[0mq_num\u001b[0m\u001b[0;34m,\u001b[0m\u001b[0ms\u001b[0m\u001b[0;34m,\u001b[0m\u001b[0mname\u001b[0m\u001b[0;34m,\u001b[0m \u001b[0me\u001b[0m\u001b[0;34m)\u001b[0m\u001b[0;34m)\u001b[0m\u001b[0;34m\u001b[0m\u001b[0m\n\u001b[0;32m---> 36\u001b[0;31m                             \u001b[0msleep\u001b[0m\u001b[0;34m(\u001b[0m\u001b[0;36m10\u001b[0m\u001b[0;34m)\u001b[0m\u001b[0;34m\u001b[0m\u001b[0m\n\u001b[0m\u001b[1;32m     37\u001b[0m                             \u001b[0;32mif\u001b[0m \u001b[0mtries\u001b[0m \u001b[0;34m>=\u001b[0m \u001b[0;36m3\u001b[0m\u001b[0;34m:\u001b[0m\u001b[0;34m\u001b[0m\u001b[0m\n\u001b[1;32m     38\u001b[0m                                 \u001b[0;32mprint\u001b[0m \u001b[0;34m\"retried 3 times, giving up with\"\u001b[0m\u001b[0;34m,\u001b[0m \u001b[0mq_num\u001b[0m\u001b[0;34m,\u001b[0m \u001b[0;34m\":\"\u001b[0m\u001b[0;34m,\u001b[0m \u001b[0me\u001b[0m\u001b[0;34m\u001b[0m\u001b[0m\n",
        "\u001b[0;31mKeyboardInterrupt\u001b[0m: "
       ]
      }
     ],
     "prompt_number": 9
    },
    {
     "cell_type": "markdown",
     "metadata": {},
     "source": [
      "\n",
      "PreSel / Combined Test\n",
      "------"
     ]
    },
    {
     "cell_type": "code",
     "collapsed": false,
     "input": [
      "class ScenariosReal(Enum):\n",
      "    basicOpt = \"basicOpt\"\n",
      "    bigOmega = \"bigOmega\"\n",
      "    bigOmegaPreSel = \"bigOmegaPreSel\"\n",
      "    bigOmegaDynamic = \"bigOmegaDynamic\"\n",
      "    bigOmegaDynamicPreSel = \"bigOmegaDynamicPreSel\"\n",
      "    bigOmegaDynamicPPUPreSel = \"bigOmegaDynamicPPUPreSel\"\n",
      "    bigOmegaDynamicStaticReOpt = \"bigOmegaDynamicStaticReOpt\"\n",
      "    bigOmegaDynamicStaticReOptPreSel = \"bigOmegaDynamicStaticReOptPreSel\"\n",
      "\n",
      "\n",
      "scenariosReal = {\n",
      "            ScenariosReal.basicOpt: {Flags.REA:True},\n",
      "\n",
      "            ScenariosReal.bigOmega: {Flags.BIG_OMEGA:True, Flags.FORCE_BIG_OMEGA_BEFORE_AGG:True, Flags.PULL_UP_SELECTION:True,\n",
      "                                     Flags.REA:True},\n",
      "            ScenariosReal.bigOmegaPreSel: {Flags.BIG_OMEGA:True, Flags.FORCE_BIG_OMEGA_BEFORE_AGG:True,  Flags.PULL_UP_SELECTION:True, \n",
      "                                          Flags.PRESELECTION:True,Flags.REA:True},            \n",
      "\n",
      "            ScenariosReal.bigOmegaDynamic: {Flags.DYNAMIC_OMEGA:True, Flags.BIG_OMEGA:True, Flags.FORCE_BIG_OMEGA_BEFORE_AGG:True, Flags.PULL_UP_SELECTION:True,\n",
      "                                            Flags.REA:True},\n",
      "            ScenariosReal.bigOmegaDynamicPreSel: {Flags.DYNAMIC_OMEGA:True, Flags.BIG_OMEGA:True, Flags.FORCE_BIG_OMEGA_BEFORE_AGG:True, Flags.PULL_UP_SELECTION:True,\n",
      "                                            Flags.PRESELECTION:True,Flags.REA:True},\n",
      "            ScenariosReal.bigOmegaDynamicPPUPreSel: {Flags.DYNAMIC_OMEGA:True, Flags.BIG_OMEGA:True, Flags.PULL_UP_SELECTION:True,\n",
      "                                            Flags.PRESELECTION:True,Flags.REA:True,Flags.PULL_UP_PROJECTION:True},\n",
      "\n",
      "\n",
      "            ScenariosReal.bigOmegaDynamicStaticReOpt: {Flags.BIG_OMEGA:True, Flags.FORCE_BIG_OMEGA_BEFORE_AGG:True,  Flags.PULL_UP_SELECTION:True, \n",
      "                                          Flags.REOPTIMIZATION:True, Flags.DYNAMIC_OMEGA:True, Flags.STATIC_REOPTIMIZATION:True,Flags.REA:True},\n",
      "            ScenariosReal.bigOmegaDynamicStaticReOptPreSel: {Flags.BIG_OMEGA:True, Flags.FORCE_BIG_OMEGA_BEFORE_AGG:True,  Flags.PULL_UP_SELECTION:True, \n",
      "                                          Flags.REOPTIMIZATION:True, Flags.DYNAMIC_OMEGA:True, Flags.STATIC_REOPTIMIZATION:True, Flags.PRESELECTION:True,Flags.REA:True},\n",
      "}\n"
     ],
     "language": "python",
     "metadata": {},
     "outputs": [],
     "prompt_number": 69
    },
    {
     "cell_type": "code",
     "collapsed": false,
     "input": [
      "Q_REAL = (\"\"\"\n",
      "select\n",
      "    n_name,\n",
      "    nation.{attr} as {attr},\n",
      "    sum(l_extendedprice * (1 - l_discount)) as revenue,\n",
      "    (sum(l_extendedprice * (1 - l_discount))) / nation.{attr} as revenue_to_{attr}\n",
      "from\n",
      "    customer,\n",
      "    orders,\n",
      "    lineitem,\n",
      "    supplier,\n",
      "    nation\n",
      "where\n",
      "    c_custkey = o_custkey\n",
      "    and l_orderkey = o_orderkey\n",
      "    and l_suppkey = s_suppkey\n",
      "    and c_nationkey = s_nationkey\n",
      "    and s_nationkey = n_nationkey\n",
      "    and o_orderdate >= date '1994-01-01'\n",
      "    and o_orderdate < date '1994-01-01' + interval '1 year'\n",
      "    and nation.{attr} > {val}\n",
      "group by\n",
      "    n_name,\n",
      "    {attr}\n",
      "order by\n",
      "    {attr} desc\n",
      "    \n",
      ";\"\"\", \"tpch\")"
     ],
     "language": "python",
     "metadata": {},
     "outputs": [],
     "prompt_number": 139
    },
    {
     "cell_type": "code",
     "collapsed": false,
     "input": [
      "Q_NUMS = [\"5r\"]\n",
      "K = [1,3,5,10,20]\n",
      "m=1\n",
      "\n",
      "def _run_real(ident, q_num, flags, name, S, K = [1,3,5,10], variables={}):\n",
      "    s_name = \"%s_%s\" % (name, ident)\n",
      "    if any(series.name == s_name for series in S):\n",
      "        print \"already contained, skipping\"\n",
      "        return\n",
      "    print \"Flags:\", flags\n",
      "    if isinstance(q_num, tuple):\n",
      "        q = q_num\n",
      "    else:\n",
      "        q = tpch_query(q_num)\n",
      "    t = run_query(q, measurements=m, K=K, flags=flags, variables=variables)\n",
      "    series = Series(t, index=K, name=s_name)\n",
      "    S.append(series)\n",
      "    print \"DONE: s_name\", s_name\n",
      "    print\n",
      "\n"
     ],
     "language": "python",
     "metadata": {},
     "outputs": [],
     "prompt_number": 140
    },
    {
     "cell_type": "code",
     "collapsed": true,
     "input": [
      "REAL = list()\n",
      "\n",
      "SR = {\n",
      "            ScenariosReal.bigOmegaDynamic: {Flags.DYNAMIC_OMEGA:True, Flags.BIG_OMEGA:True, Flags.FORCE_BIG_OMEGA_BEFORE_AGG:True, Flags.PULL_UP_SELECTION:True,\n",
      "                                            Flags.REA:True},\n",
      "            ScenariosReal.bigOmegaDynamicPreSel: {Flags.DYNAMIC_OMEGA:True, Flags.BIG_OMEGA:True, Flags.FORCE_BIG_OMEGA_BEFORE_AGG:True, Flags.PULL_UP_SELECTION:True,\n",
      "                                            Flags.PRESELECTION:True,Flags.REA:True},\n",
      "\n",
      "            ScenariosReal.bigOmegaDynamicStaticReOpt: {Flags.BIG_OMEGA:True, Flags.FORCE_BIG_OMEGA_BEFORE_AGG:True,  Flags.PULL_UP_SELECTION:True, \n",
      "                                          Flags.REOPTIMIZATION:True, Flags.DYNAMIC_OMEGA:True, Flags.STATIC_REOPTIMIZATION:True,Flags.REA:True},\n",
      "            ScenariosReal.bigOmegaDynamicStaticReOptPreSel: {Flags.BIG_OMEGA:True, Flags.FORCE_BIG_OMEGA_BEFORE_AGG:True,  Flags.PULL_UP_SELECTION:True, \n",
      "                                          Flags.REOPTIMIZATION:True, Flags.DYNAMIC_OMEGA:True, Flags.STATIC_REOPTIMIZATION:True, Flags.PRESELECTION:True,Flags.REA:True},\n",
      "}\n",
      "\n",
      "\n",
      "sc = ScenariosReal.bigOmegaDynamicPreSel\n",
      "_run(\"_gdp_60\", Q_REAL, SR[sc], sc.value, REAL, variables={\"attr\":\"gdp\", \"val\":60.0})\n",
      "_run(\"_gdp_3\", Q_REAL, SR[sc], sc.value, REAL, variables={\"attr\":\"gdp\", \"val\":3.0})\n",
      "_run(\"_population_10000000\", Q_REAL, SR[sc], sc.value, REAL, variables={\"attr\":\"population\", \"val\":10000000.0})\n",
      "_run(\"_population_100000000\", Q_REAL, SR[sc], sc.value, REAL, variables={\"attr\":\"population\", \"val\":100000000.0})\n",
      "\n",
      "sc = ScenariosReal.bigOmegaDynamic\n",
      "_run(\"_gdp_60\", Q_REAL, SR[sc], sc.value, REAL, variables={\"attr\":\"gdp\", \"val\":60.0})\n",
      "_run(\"_gdp_3\", Q_REAL, SR[sc], sc.value, REAL, variables={\"attr\":\"gdp\", \"val\":3.0})\n",
      "_run(\"_population_10000000\", Q_REAL, SR[sc], sc.value, REAL, variables={\"attr\":\"population\", \"val\":10000000.0})\n",
      "_run(\"_population_100000000\", Q_REAL, SR[sc], sc.value, REAL, variables={\"attr\":\"population\", \"val\":100000000.0})\n",
      "\n",
      "sc = ScenariosReal.bigOmegaDynamicStaticReOptPreSel\n",
      "_run(\"_gdp_60\", Q_REAL, SR[sc], sc.value, REAL, variables={\"attr\":\"gdp\", \"val\":60.0})\n",
      "_run(\"_gdp_3\", Q_REAL, SR[sc], sc.value, REAL, variables={\"attr\":\"gdp\", \"val\":3.0})\n",
      "_run(\"_population_10000000\", Q_REAL, SR[sc], sc.value, REAL, variables={\"attr\":\"population\", \"val\":10000000.0})\n",
      "_run(\"_population_100000000\", Q_REAL, SR[sc], sc.value, REAL, variables={\"attr\":\"population\", \"val\":100000000.0})\n",
      "\n",
      "sc = ScenariosReal.bigOmegaDynamicStaticReOpt\n",
      "_run(\"_gdp_60\", Q_REAL, SR[sc], sc.value, REAL, variables={\"attr\":\"gdp\", \"val\":60.0})\n",
      "_run(\"_gdp_3\", Q_REAL, SR[sc], sc.value, REAL, variables={\"attr\":\"gdp\", \"val\":3.0})\n",
      "_run(\"_population_10000000\", Q_REAL, SR[sc], sc.value, REAL, variables={\"attr\":\"population\", \"val\":10000000.0})\n",
      "_run(\"_population_100000000\", Q_REAL, SR[sc], sc.value, REAL, variables={\"attr\":\"population\", \"val\":100000000.0})\n"
     ],
     "language": "python",
     "metadata": {},
     "outputs": [
      {
       "output_type": "stream",
       "stream": "stdout",
       "text": [
        "Flags: {<Flags.FORCE_BIG_OMEGA_BEFORE_AGG: 'enable_force_big_omega_before_agg'>: True, <Flags.PULL_UP_SELECTION: 'enable_pull_up_selection'>: True, <Flags.DYNAMIC_OMEGA: 'enable_dynamic_omega'>: True, <Flags.PRESELECTION: 'enable_preselection'>: True, <Flags.REA: 'enable_rea'>: True, <Flags.BIG_OMEGA: 'enable_big_omega'>: True}\n",
        "exec:  (\"\\nselect\\n    n_name,\\n    nation.{attr} as {attr},\\n    sum(l_extendedprice * (1 - l_discount)) as revenue,\\n    (sum(l_extendedprice * (1 - l_discount))) / nation.{attr} as revenue_to_{attr}\\nfrom\\n    customer,\\n    orders,\\n    lineitem,\\n    supplier,\\n    nation\\nwhere\\n    c_custkey = o_custkey\\n    and l_orderkey = o_orderkey\\n    and l_suppkey = s_suppkey\\n    and c_nationkey = s_nationkey\\n    and s_nationkey = n_nationkey\\n    and o_orderdate >= date '1994-01-01'\\n    and o_orderdate < date '1994-01-01' + interval '1 year'\\n    and nation.{attr} > {val}\\ngroup by\\n    n_name,\\n    {attr}\\norder by\\n    revenue desc\\n;\", 'tpch')   1\n",
        "exec: "
       ]
      },
      {
       "output_type": "stream",
       "stream": "stdout",
       "text": [
        " (\"\\nselect\\n    n_name,\\n    nation.{attr} as {attr},\\n    sum(l_extendedprice * (1 - l_discount)) as revenue,\\n    (sum(l_extendedprice * (1 - l_discount))) / nation.{attr} as revenue_to_{attr}\\nfrom\\n    customer,\\n    orders,\\n    lineitem,\\n    supplier,\\n    nation\\nwhere\\n    c_custkey = o_custkey\\n    and l_orderkey = o_orderkey\\n    and l_suppkey = s_suppkey\\n    and c_nationkey = s_nationkey\\n    and s_nationkey = n_nationkey\\n    and o_orderdate >= date '1994-01-01'\\n    and o_orderdate < date '1994-01-01' + interval '1 year'\\n    and nation.{attr} > {val}\\ngroup by\\n    n_name,\\n    {attr}\\norder by\\n    revenue desc\\n;\", 'tpch')   3\n",
        "exec: "
       ]
      },
      {
       "output_type": "stream",
       "stream": "stdout",
       "text": [
        " (\"\\nselect\\n    n_name,\\n    nation.{attr} as {attr},\\n    sum(l_extendedprice * (1 - l_discount)) as revenue,\\n    (sum(l_extendedprice * (1 - l_discount))) / nation.{attr} as revenue_to_{attr}\\nfrom\\n    customer,\\n    orders,\\n    lineitem,\\n    supplier,\\n    nation\\nwhere\\n    c_custkey = o_custkey\\n    and l_orderkey = o_orderkey\\n    and l_suppkey = s_suppkey\\n    and c_nationkey = s_nationkey\\n    and s_nationkey = n_nationkey\\n    and o_orderdate >= date '1994-01-01'\\n    and o_orderdate < date '1994-01-01' + interval '1 year'\\n    and nation.{attr} > {val}\\ngroup by\\n    n_name,\\n    {attr}\\norder by\\n    revenue desc\\n;\", 'tpch')   5\n",
        "exec: "
       ]
      },
      {
       "output_type": "stream",
       "stream": "stdout",
       "text": [
        " (\"\\nselect\\n    n_name,\\n    nation.{attr} as {attr},\\n    sum(l_extendedprice * (1 - l_discount)) as revenue,\\n    (sum(l_extendedprice * (1 - l_discount))) / nation.{attr} as revenue_to_{attr}\\nfrom\\n    customer,\\n    orders,\\n    lineitem,\\n    supplier,\\n    nation\\nwhere\\n    c_custkey = o_custkey\\n    and l_orderkey = o_orderkey\\n    and l_suppkey = s_suppkey\\n    and c_nationkey = s_nationkey\\n    and s_nationkey = n_nationkey\\n    and o_orderdate >= date '1994-01-01'\\n    and o_orderdate < date '1994-01-01' + interval '1 year'\\n    and nation.{attr} > {val}\\ngroup by\\n    n_name,\\n    {attr}\\norder by\\n    revenue desc\\n;\", 'tpch')   10\n",
        "DONE: s_name"
       ]
      },
      {
       "output_type": "stream",
       "stream": "stdout",
       "text": [
        " bigOmegaDynamicPreSel__gdp_60\n",
        "\n",
        "Flags: {<Flags.FORCE_BIG_OMEGA_BEFORE_AGG: 'enable_force_big_omega_before_agg'>: True, <Flags.PULL_UP_SELECTION: 'enable_pull_up_selection'>: True, <Flags.DYNAMIC_OMEGA: 'enable_dynamic_omega'>: True, <Flags.PRESELECTION: 'enable_preselection'>: True, <Flags.REA: 'enable_rea'>: True, <Flags.BIG_OMEGA: 'enable_big_omega'>: True}\n",
        "exec:  (\"\\nselect\\n    n_name,\\n    nation.{attr} as {attr},\\n    sum(l_extendedprice * (1 - l_discount)) as revenue,\\n    (sum(l_extendedprice * (1 - l_discount))) / nation.{attr} as revenue_to_{attr}\\nfrom\\n    customer,\\n    orders,\\n    lineitem,\\n    supplier,\\n    nation\\nwhere\\n    c_custkey = o_custkey\\n    and l_orderkey = o_orderkey\\n    and l_suppkey = s_suppkey\\n    and c_nationkey = s_nationkey\\n    and s_nationkey = n_nationkey\\n    and o_orderdate >= date '1994-01-01'\\n    and o_orderdate < date '1994-01-01' + interval '1 year'\\n    and nation.{attr} > {val}\\ngroup by\\n    n_name,\\n    {attr}\\norder by\\n    revenue desc\\n;\", 'tpch')   1\n",
        "exec: "
       ]
      },
      {
       "output_type": "stream",
       "stream": "stdout",
       "text": [
        " (\"\\nselect\\n    n_name,\\n    nation.{attr} as {attr},\\n    sum(l_extendedprice * (1 - l_discount)) as revenue,\\n    (sum(l_extendedprice * (1 - l_discount))) / nation.{attr} as revenue_to_{attr}\\nfrom\\n    customer,\\n    orders,\\n    lineitem,\\n    supplier,\\n    nation\\nwhere\\n    c_custkey = o_custkey\\n    and l_orderkey = o_orderkey\\n    and l_suppkey = s_suppkey\\n    and c_nationkey = s_nationkey\\n    and s_nationkey = n_nationkey\\n    and o_orderdate >= date '1994-01-01'\\n    and o_orderdate < date '1994-01-01' + interval '1 year'\\n    and nation.{attr} > {val}\\ngroup by\\n    n_name,\\n    {attr}\\norder by\\n    revenue desc\\n;\", 'tpch')   3\n",
        "exec: "
       ]
      },
      {
       "output_type": "stream",
       "stream": "stdout",
       "text": [
        " (\"\\nselect\\n    n_name,\\n    nation.{attr} as {attr},\\n    sum(l_extendedprice * (1 - l_discount)) as revenue,\\n    (sum(l_extendedprice * (1 - l_discount))) / nation.{attr} as revenue_to_{attr}\\nfrom\\n    customer,\\n    orders,\\n    lineitem,\\n    supplier,\\n    nation\\nwhere\\n    c_custkey = o_custkey\\n    and l_orderkey = o_orderkey\\n    and l_suppkey = s_suppkey\\n    and c_nationkey = s_nationkey\\n    and s_nationkey = n_nationkey\\n    and o_orderdate >= date '1994-01-01'\\n    and o_orderdate < date '1994-01-01' + interval '1 year'\\n    and nation.{attr} > {val}\\ngroup by\\n    n_name,\\n    {attr}\\norder by\\n    revenue desc\\n;\", 'tpch')   5\n",
        "exec: "
       ]
      },
      {
       "output_type": "stream",
       "stream": "stdout",
       "text": [
        " (\"\\nselect\\n    n_name,\\n    nation.{attr} as {attr},\\n    sum(l_extendedprice * (1 - l_discount)) as revenue,\\n    (sum(l_extendedprice * (1 - l_discount))) / nation.{attr} as revenue_to_{attr}\\nfrom\\n    customer,\\n    orders,\\n    lineitem,\\n    supplier,\\n    nation\\nwhere\\n    c_custkey = o_custkey\\n    and l_orderkey = o_orderkey\\n    and l_suppkey = s_suppkey\\n    and c_nationkey = s_nationkey\\n    and s_nationkey = n_nationkey\\n    and o_orderdate >= date '1994-01-01'\\n    and o_orderdate < date '1994-01-01' + interval '1 year'\\n    and nation.{attr} > {val}\\ngroup by\\n    n_name,\\n    {attr}\\norder by\\n    revenue desc\\n;\", 'tpch')   10\n",
        "DONE: s_name"
       ]
      },
      {
       "output_type": "stream",
       "stream": "stdout",
       "text": [
        " bigOmegaDynamicPreSel__gdp_3\n",
        "\n",
        "Flags: {<Flags.FORCE_BIG_OMEGA_BEFORE_AGG: 'enable_force_big_omega_before_agg'>: True, <Flags.PULL_UP_SELECTION: 'enable_pull_up_selection'>: True, <Flags.DYNAMIC_OMEGA: 'enable_dynamic_omega'>: True, <Flags.PRESELECTION: 'enable_preselection'>: True, <Flags.REA: 'enable_rea'>: True, <Flags.BIG_OMEGA: 'enable_big_omega'>: True}\n",
        "exec:  (\"\\nselect\\n    n_name,\\n    nation.{attr} as {attr},\\n    sum(l_extendedprice * (1 - l_discount)) as revenue,\\n    (sum(l_extendedprice * (1 - l_discount))) / nation.{attr} as revenue_to_{attr}\\nfrom\\n    customer,\\n    orders,\\n    lineitem,\\n    supplier,\\n    nation\\nwhere\\n    c_custkey = o_custkey\\n    and l_orderkey = o_orderkey\\n    and l_suppkey = s_suppkey\\n    and c_nationkey = s_nationkey\\n    and s_nationkey = n_nationkey\\n    and o_orderdate >= date '1994-01-01'\\n    and o_orderdate < date '1994-01-01' + interval '1 year'\\n    and nation.{attr} > {val}\\ngroup by\\n    n_name,\\n    {attr}\\norder by\\n    revenue desc\\n;\", 'tpch')   1\n",
        "exec: "
       ]
      },
      {
       "output_type": "stream",
       "stream": "stdout",
       "text": [
        " (\"\\nselect\\n    n_name,\\n    nation.{attr} as {attr},\\n    sum(l_extendedprice * (1 - l_discount)) as revenue,\\n    (sum(l_extendedprice * (1 - l_discount))) / nation.{attr} as revenue_to_{attr}\\nfrom\\n    customer,\\n    orders,\\n    lineitem,\\n    supplier,\\n    nation\\nwhere\\n    c_custkey = o_custkey\\n    and l_orderkey = o_orderkey\\n    and l_suppkey = s_suppkey\\n    and c_nationkey = s_nationkey\\n    and s_nationkey = n_nationkey\\n    and o_orderdate >= date '1994-01-01'\\n    and o_orderdate < date '1994-01-01' + interval '1 year'\\n    and nation.{attr} > {val}\\ngroup by\\n    n_name,\\n    {attr}\\norder by\\n    revenue desc\\n;\", 'tpch')   3\n",
        "exec: "
       ]
      },
      {
       "output_type": "stream",
       "stream": "stdout",
       "text": [
        " (\"\\nselect\\n    n_name,\\n    nation.{attr} as {attr},\\n    sum(l_extendedprice * (1 - l_discount)) as revenue,\\n    (sum(l_extendedprice * (1 - l_discount))) / nation.{attr} as revenue_to_{attr}\\nfrom\\n    customer,\\n    orders,\\n    lineitem,\\n    supplier,\\n    nation\\nwhere\\n    c_custkey = o_custkey\\n    and l_orderkey = o_orderkey\\n    and l_suppkey = s_suppkey\\n    and c_nationkey = s_nationkey\\n    and s_nationkey = n_nationkey\\n    and o_orderdate >= date '1994-01-01'\\n    and o_orderdate < date '1994-01-01' + interval '1 year'\\n    and nation.{attr} > {val}\\ngroup by\\n    n_name,\\n    {attr}\\norder by\\n    revenue desc\\n;\", 'tpch')   5\n",
        "exec: "
       ]
      },
      {
       "output_type": "stream",
       "stream": "stdout",
       "text": [
        " (\"\\nselect\\n    n_name,\\n    nation.{attr} as {attr},\\n    sum(l_extendedprice * (1 - l_discount)) as revenue,\\n    (sum(l_extendedprice * (1 - l_discount))) / nation.{attr} as revenue_to_{attr}\\nfrom\\n    customer,\\n    orders,\\n    lineitem,\\n    supplier,\\n    nation\\nwhere\\n    c_custkey = o_custkey\\n    and l_orderkey = o_orderkey\\n    and l_suppkey = s_suppkey\\n    and c_nationkey = s_nationkey\\n    and s_nationkey = n_nationkey\\n    and o_orderdate >= date '1994-01-01'\\n    and o_orderdate < date '1994-01-01' + interval '1 year'\\n    and nation.{attr} > {val}\\ngroup by\\n    n_name,\\n    {attr}\\norder by\\n    revenue desc\\n;\", 'tpch')   10\n",
        "DONE: s_name"
       ]
      },
      {
       "output_type": "stream",
       "stream": "stdout",
       "text": [
        " bigOmegaDynamicPreSel__population_10000000\n",
        "\n",
        "Flags: {<Flags.FORCE_BIG_OMEGA_BEFORE_AGG: 'enable_force_big_omega_before_agg'>: True, <Flags.PULL_UP_SELECTION: 'enable_pull_up_selection'>: True, <Flags.DYNAMIC_OMEGA: 'enable_dynamic_omega'>: True, <Flags.PRESELECTION: 'enable_preselection'>: True, <Flags.REA: 'enable_rea'>: True, <Flags.BIG_OMEGA: 'enable_big_omega'>: True}\n",
        "exec:  (\"\\nselect\\n    n_name,\\n    nation.{attr} as {attr},\\n    sum(l_extendedprice * (1 - l_discount)) as revenue,\\n    (sum(l_extendedprice * (1 - l_discount))) / nation.{attr} as revenue_to_{attr}\\nfrom\\n    customer,\\n    orders,\\n    lineitem,\\n    supplier,\\n    nation\\nwhere\\n    c_custkey = o_custkey\\n    and l_orderkey = o_orderkey\\n    and l_suppkey = s_suppkey\\n    and c_nationkey = s_nationkey\\n    and s_nationkey = n_nationkey\\n    and o_orderdate >= date '1994-01-01'\\n    and o_orderdate < date '1994-01-01' + interval '1 year'\\n    and nation.{attr} > {val}\\ngroup by\\n    n_name,\\n    {attr}\\norder by\\n    revenue desc\\n;\", 'tpch')   1\n",
        "exec: "
       ]
      },
      {
       "output_type": "stream",
       "stream": "stdout",
       "text": [
        " (\"\\nselect\\n    n_name,\\n    nation.{attr} as {attr},\\n    sum(l_extendedprice * (1 - l_discount)) as revenue,\\n    (sum(l_extendedprice * (1 - l_discount))) / nation.{attr} as revenue_to_{attr}\\nfrom\\n    customer,\\n    orders,\\n    lineitem,\\n    supplier,\\n    nation\\nwhere\\n    c_custkey = o_custkey\\n    and l_orderkey = o_orderkey\\n    and l_suppkey = s_suppkey\\n    and c_nationkey = s_nationkey\\n    and s_nationkey = n_nationkey\\n    and o_orderdate >= date '1994-01-01'\\n    and o_orderdate < date '1994-01-01' + interval '1 year'\\n    and nation.{attr} > {val}\\ngroup by\\n    n_name,\\n    {attr}\\norder by\\n    revenue desc\\n;\", 'tpch')   3\n",
        "exec: "
       ]
      },
      {
       "output_type": "stream",
       "stream": "stdout",
       "text": [
        " (\"\\nselect\\n    n_name,\\n    nation.{attr} as {attr},\\n    sum(l_extendedprice * (1 - l_discount)) as revenue,\\n    (sum(l_extendedprice * (1 - l_discount))) / nation.{attr} as revenue_to_{attr}\\nfrom\\n    customer,\\n    orders,\\n    lineitem,\\n    supplier,\\n    nation\\nwhere\\n    c_custkey = o_custkey\\n    and l_orderkey = o_orderkey\\n    and l_suppkey = s_suppkey\\n    and c_nationkey = s_nationkey\\n    and s_nationkey = n_nationkey\\n    and o_orderdate >= date '1994-01-01'\\n    and o_orderdate < date '1994-01-01' + interval '1 year'\\n    and nation.{attr} > {val}\\ngroup by\\n    n_name,\\n    {attr}\\norder by\\n    revenue desc\\n;\", 'tpch')   5\n",
        "exec: "
       ]
      },
      {
       "output_type": "stream",
       "stream": "stdout",
       "text": [
        " (\"\\nselect\\n    n_name,\\n    nation.{attr} as {attr},\\n    sum(l_extendedprice * (1 - l_discount)) as revenue,\\n    (sum(l_extendedprice * (1 - l_discount))) / nation.{attr} as revenue_to_{attr}\\nfrom\\n    customer,\\n    orders,\\n    lineitem,\\n    supplier,\\n    nation\\nwhere\\n    c_custkey = o_custkey\\n    and l_orderkey = o_orderkey\\n    and l_suppkey = s_suppkey\\n    and c_nationkey = s_nationkey\\n    and s_nationkey = n_nationkey\\n    and o_orderdate >= date '1994-01-01'\\n    and o_orderdate < date '1994-01-01' + interval '1 year'\\n    and nation.{attr} > {val}\\ngroup by\\n    n_name,\\n    {attr}\\norder by\\n    revenue desc\\n;\", 'tpch')   10\n",
        "DONE: s_name"
       ]
      },
      {
       "output_type": "stream",
       "stream": "stdout",
       "text": [
        " bigOmegaDynamicPreSel__population_100000000\n",
        "\n",
        "Flags: {<Flags.FORCE_BIG_OMEGA_BEFORE_AGG: 'enable_force_big_omega_before_agg'>: True, <Flags.PULL_UP_SELECTION: 'enable_pull_up_selection'>: True, <Flags.REA: 'enable_rea'>: True, <Flags.DYNAMIC_OMEGA: 'enable_dynamic_omega'>: True, <Flags.BIG_OMEGA: 'enable_big_omega'>: True}\n",
        "exec:  (\"\\nselect\\n    n_name,\\n    nation.{attr} as {attr},\\n    sum(l_extendedprice * (1 - l_discount)) as revenue,\\n    (sum(l_extendedprice * (1 - l_discount))) / nation.{attr} as revenue_to_{attr}\\nfrom\\n    customer,\\n    orders,\\n    lineitem,\\n    supplier,\\n    nation\\nwhere\\n    c_custkey = o_custkey\\n    and l_orderkey = o_orderkey\\n    and l_suppkey = s_suppkey\\n    and c_nationkey = s_nationkey\\n    and s_nationkey = n_nationkey\\n    and o_orderdate >= date '1994-01-01'\\n    and o_orderdate < date '1994-01-01' + interval '1 year'\\n    and nation.{attr} > {val}\\ngroup by\\n    n_name,\\n    {attr}\\norder by\\n    revenue desc\\n;\", 'tpch')   1\n",
        "exec: "
       ]
      },
      {
       "output_type": "stream",
       "stream": "stdout",
       "text": [
        " (\"\\nselect\\n    n_name,\\n    nation.{attr} as {attr},\\n    sum(l_extendedprice * (1 - l_discount)) as revenue,\\n    (sum(l_extendedprice * (1 - l_discount))) / nation.{attr} as revenue_to_{attr}\\nfrom\\n    customer,\\n    orders,\\n    lineitem,\\n    supplier,\\n    nation\\nwhere\\n    c_custkey = o_custkey\\n    and l_orderkey = o_orderkey\\n    and l_suppkey = s_suppkey\\n    and c_nationkey = s_nationkey\\n    and s_nationkey = n_nationkey\\n    and o_orderdate >= date '1994-01-01'\\n    and o_orderdate < date '1994-01-01' + interval '1 year'\\n    and nation.{attr} > {val}\\ngroup by\\n    n_name,\\n    {attr}\\norder by\\n    revenue desc\\n;\", 'tpch')   3\n",
        "exec: "
       ]
      },
      {
       "output_type": "stream",
       "stream": "stdout",
       "text": [
        " (\"\\nselect\\n    n_name,\\n    nation.{attr} as {attr},\\n    sum(l_extendedprice * (1 - l_discount)) as revenue,\\n    (sum(l_extendedprice * (1 - l_discount))) / nation.{attr} as revenue_to_{attr}\\nfrom\\n    customer,\\n    orders,\\n    lineitem,\\n    supplier,\\n    nation\\nwhere\\n    c_custkey = o_custkey\\n    and l_orderkey = o_orderkey\\n    and l_suppkey = s_suppkey\\n    and c_nationkey = s_nationkey\\n    and s_nationkey = n_nationkey\\n    and o_orderdate >= date '1994-01-01'\\n    and o_orderdate < date '1994-01-01' + interval '1 year'\\n    and nation.{attr} > {val}\\ngroup by\\n    n_name,\\n    {attr}\\norder by\\n    revenue desc\\n;\", 'tpch')   5\n",
        "exec: "
       ]
      },
      {
       "output_type": "stream",
       "stream": "stdout",
       "text": [
        " (\"\\nselect\\n    n_name,\\n    nation.{attr} as {attr},\\n    sum(l_extendedprice * (1 - l_discount)) as revenue,\\n    (sum(l_extendedprice * (1 - l_discount))) / nation.{attr} as revenue_to_{attr}\\nfrom\\n    customer,\\n    orders,\\n    lineitem,\\n    supplier,\\n    nation\\nwhere\\n    c_custkey = o_custkey\\n    and l_orderkey = o_orderkey\\n    and l_suppkey = s_suppkey\\n    and c_nationkey = s_nationkey\\n    and s_nationkey = n_nationkey\\n    and o_orderdate >= date '1994-01-01'\\n    and o_orderdate < date '1994-01-01' + interval '1 year'\\n    and nation.{attr} > {val}\\ngroup by\\n    n_name,\\n    {attr}\\norder by\\n    revenue desc\\n;\", 'tpch')   10\n",
        "DONE: s_name"
       ]
      },
      {
       "output_type": "stream",
       "stream": "stdout",
       "text": [
        " bigOmegaDynamic__gdp_60\n",
        "\n",
        "Flags: {<Flags.FORCE_BIG_OMEGA_BEFORE_AGG: 'enable_force_big_omega_before_agg'>: True, <Flags.PULL_UP_SELECTION: 'enable_pull_up_selection'>: True, <Flags.REA: 'enable_rea'>: True, <Flags.DYNAMIC_OMEGA: 'enable_dynamic_omega'>: True, <Flags.BIG_OMEGA: 'enable_big_omega'>: True}\n",
        "exec:  (\"\\nselect\\n    n_name,\\n    nation.{attr} as {attr},\\n    sum(l_extendedprice * (1 - l_discount)) as revenue,\\n    (sum(l_extendedprice * (1 - l_discount))) / nation.{attr} as revenue_to_{attr}\\nfrom\\n    customer,\\n    orders,\\n    lineitem,\\n    supplier,\\n    nation\\nwhere\\n    c_custkey = o_custkey\\n    and l_orderkey = o_orderkey\\n    and l_suppkey = s_suppkey\\n    and c_nationkey = s_nationkey\\n    and s_nationkey = n_nationkey\\n    and o_orderdate >= date '1994-01-01'\\n    and o_orderdate < date '1994-01-01' + interval '1 year'\\n    and nation.{attr} > {val}\\ngroup by\\n    n_name,\\n    {attr}\\norder by\\n    revenue desc\\n;\", 'tpch')   1\n",
        "exec: "
       ]
      },
      {
       "output_type": "stream",
       "stream": "stdout",
       "text": [
        " (\"\\nselect\\n    n_name,\\n    nation.{attr} as {attr},\\n    sum(l_extendedprice * (1 - l_discount)) as revenue,\\n    (sum(l_extendedprice * (1 - l_discount))) / nation.{attr} as revenue_to_{attr}\\nfrom\\n    customer,\\n    orders,\\n    lineitem,\\n    supplier,\\n    nation\\nwhere\\n    c_custkey = o_custkey\\n    and l_orderkey = o_orderkey\\n    and l_suppkey = s_suppkey\\n    and c_nationkey = s_nationkey\\n    and s_nationkey = n_nationkey\\n    and o_orderdate >= date '1994-01-01'\\n    and o_orderdate < date '1994-01-01' + interval '1 year'\\n    and nation.{attr} > {val}\\ngroup by\\n    n_name,\\n    {attr}\\norder by\\n    revenue desc\\n;\", 'tpch')   3\n",
        "exec: "
       ]
      },
      {
       "output_type": "stream",
       "stream": "stdout",
       "text": [
        " (\"\\nselect\\n    n_name,\\n    nation.{attr} as {attr},\\n    sum(l_extendedprice * (1 - l_discount)) as revenue,\\n    (sum(l_extendedprice * (1 - l_discount))) / nation.{attr} as revenue_to_{attr}\\nfrom\\n    customer,\\n    orders,\\n    lineitem,\\n    supplier,\\n    nation\\nwhere\\n    c_custkey = o_custkey\\n    and l_orderkey = o_orderkey\\n    and l_suppkey = s_suppkey\\n    and c_nationkey = s_nationkey\\n    and s_nationkey = n_nationkey\\n    and o_orderdate >= date '1994-01-01'\\n    and o_orderdate < date '1994-01-01' + interval '1 year'\\n    and nation.{attr} > {val}\\ngroup by\\n    n_name,\\n    {attr}\\norder by\\n    revenue desc\\n;\", 'tpch')   5\n",
        "exec: "
       ]
      },
      {
       "output_type": "stream",
       "stream": "stdout",
       "text": [
        " (\"\\nselect\\n    n_name,\\n    nation.{attr} as {attr},\\n    sum(l_extendedprice * (1 - l_discount)) as revenue,\\n    (sum(l_extendedprice * (1 - l_discount))) / nation.{attr} as revenue_to_{attr}\\nfrom\\n    customer,\\n    orders,\\n    lineitem,\\n    supplier,\\n    nation\\nwhere\\n    c_custkey = o_custkey\\n    and l_orderkey = o_orderkey\\n    and l_suppkey = s_suppkey\\n    and c_nationkey = s_nationkey\\n    and s_nationkey = n_nationkey\\n    and o_orderdate >= date '1994-01-01'\\n    and o_orderdate < date '1994-01-01' + interval '1 year'\\n    and nation.{attr} > {val}\\ngroup by\\n    n_name,\\n    {attr}\\norder by\\n    revenue desc\\n;\", 'tpch')   10\n",
        "DONE: s_name"
       ]
      },
      {
       "output_type": "stream",
       "stream": "stdout",
       "text": [
        " bigOmegaDynamic__gdp_3\n",
        "\n",
        "Flags: {<Flags.FORCE_BIG_OMEGA_BEFORE_AGG: 'enable_force_big_omega_before_agg'>: True, <Flags.PULL_UP_SELECTION: 'enable_pull_up_selection'>: True, <Flags.REA: 'enable_rea'>: True, <Flags.DYNAMIC_OMEGA: 'enable_dynamic_omega'>: True, <Flags.BIG_OMEGA: 'enable_big_omega'>: True}\n",
        "exec:  (\"\\nselect\\n    n_name,\\n    nation.{attr} as {attr},\\n    sum(l_extendedprice * (1 - l_discount)) as revenue,\\n    (sum(l_extendedprice * (1 - l_discount))) / nation.{attr} as revenue_to_{attr}\\nfrom\\n    customer,\\n    orders,\\n    lineitem,\\n    supplier,\\n    nation\\nwhere\\n    c_custkey = o_custkey\\n    and l_orderkey = o_orderkey\\n    and l_suppkey = s_suppkey\\n    and c_nationkey = s_nationkey\\n    and s_nationkey = n_nationkey\\n    and o_orderdate >= date '1994-01-01'\\n    and o_orderdate < date '1994-01-01' + interval '1 year'\\n    and nation.{attr} > {val}\\ngroup by\\n    n_name,\\n    {attr}\\norder by\\n    revenue desc\\n;\", 'tpch')   1\n",
        "exec: "
       ]
      },
      {
       "output_type": "stream",
       "stream": "stdout",
       "text": [
        " (\"\\nselect\\n    n_name,\\n    nation.{attr} as {attr},\\n    sum(l_extendedprice * (1 - l_discount)) as revenue,\\n    (sum(l_extendedprice * (1 - l_discount))) / nation.{attr} as revenue_to_{attr}\\nfrom\\n    customer,\\n    orders,\\n    lineitem,\\n    supplier,\\n    nation\\nwhere\\n    c_custkey = o_custkey\\n    and l_orderkey = o_orderkey\\n    and l_suppkey = s_suppkey\\n    and c_nationkey = s_nationkey\\n    and s_nationkey = n_nationkey\\n    and o_orderdate >= date '1994-01-01'\\n    and o_orderdate < date '1994-01-01' + interval '1 year'\\n    and nation.{attr} > {val}\\ngroup by\\n    n_name,\\n    {attr}\\norder by\\n    revenue desc\\n;\", 'tpch')   3\n",
        "exec: "
       ]
      },
      {
       "output_type": "stream",
       "stream": "stdout",
       "text": [
        " (\"\\nselect\\n    n_name,\\n    nation.{attr} as {attr},\\n    sum(l_extendedprice * (1 - l_discount)) as revenue,\\n    (sum(l_extendedprice * (1 - l_discount))) / nation.{attr} as revenue_to_{attr}\\nfrom\\n    customer,\\n    orders,\\n    lineitem,\\n    supplier,\\n    nation\\nwhere\\n    c_custkey = o_custkey\\n    and l_orderkey = o_orderkey\\n    and l_suppkey = s_suppkey\\n    and c_nationkey = s_nationkey\\n    and s_nationkey = n_nationkey\\n    and o_orderdate >= date '1994-01-01'\\n    and o_orderdate < date '1994-01-01' + interval '1 year'\\n    and nation.{attr} > {val}\\ngroup by\\n    n_name,\\n    {attr}\\norder by\\n    revenue desc\\n;\", 'tpch')   5\n",
        "exec: "
       ]
      },
      {
       "output_type": "stream",
       "stream": "stdout",
       "text": [
        " (\"\\nselect\\n    n_name,\\n    nation.{attr} as {attr},\\n    sum(l_extendedprice * (1 - l_discount)) as revenue,\\n    (sum(l_extendedprice * (1 - l_discount))) / nation.{attr} as revenue_to_{attr}\\nfrom\\n    customer,\\n    orders,\\n    lineitem,\\n    supplier,\\n    nation\\nwhere\\n    c_custkey = o_custkey\\n    and l_orderkey = o_orderkey\\n    and l_suppkey = s_suppkey\\n    and c_nationkey = s_nationkey\\n    and s_nationkey = n_nationkey\\n    and o_orderdate >= date '1994-01-01'\\n    and o_orderdate < date '1994-01-01' + interval '1 year'\\n    and nation.{attr} > {val}\\ngroup by\\n    n_name,\\n    {attr}\\norder by\\n    revenue desc\\n;\", 'tpch')   10\n",
        "DONE: s_name"
       ]
      },
      {
       "output_type": "stream",
       "stream": "stdout",
       "text": [
        " bigOmegaDynamic__population_10000000\n",
        "\n",
        "Flags: {<Flags.FORCE_BIG_OMEGA_BEFORE_AGG: 'enable_force_big_omega_before_agg'>: True, <Flags.PULL_UP_SELECTION: 'enable_pull_up_selection'>: True, <Flags.REA: 'enable_rea'>: True, <Flags.DYNAMIC_OMEGA: 'enable_dynamic_omega'>: True, <Flags.BIG_OMEGA: 'enable_big_omega'>: True}\n",
        "exec:  (\"\\nselect\\n    n_name,\\n    nation.{attr} as {attr},\\n    sum(l_extendedprice * (1 - l_discount)) as revenue,\\n    (sum(l_extendedprice * (1 - l_discount))) / nation.{attr} as revenue_to_{attr}\\nfrom\\n    customer,\\n    orders,\\n    lineitem,\\n    supplier,\\n    nation\\nwhere\\n    c_custkey = o_custkey\\n    and l_orderkey = o_orderkey\\n    and l_suppkey = s_suppkey\\n    and c_nationkey = s_nationkey\\n    and s_nationkey = n_nationkey\\n    and o_orderdate >= date '1994-01-01'\\n    and o_orderdate < date '1994-01-01' + interval '1 year'\\n    and nation.{attr} > {val}\\ngroup by\\n    n_name,\\n    {attr}\\norder by\\n    revenue desc\\n;\", 'tpch')   1\n",
        "exec: "
       ]
      },
      {
       "output_type": "stream",
       "stream": "stdout",
       "text": [
        " (\"\\nselect\\n    n_name,\\n    nation.{attr} as {attr},\\n    sum(l_extendedprice * (1 - l_discount)) as revenue,\\n    (sum(l_extendedprice * (1 - l_discount))) / nation.{attr} as revenue_to_{attr}\\nfrom\\n    customer,\\n    orders,\\n    lineitem,\\n    supplier,\\n    nation\\nwhere\\n    c_custkey = o_custkey\\n    and l_orderkey = o_orderkey\\n    and l_suppkey = s_suppkey\\n    and c_nationkey = s_nationkey\\n    and s_nationkey = n_nationkey\\n    and o_orderdate >= date '1994-01-01'\\n    and o_orderdate < date '1994-01-01' + interval '1 year'\\n    and nation.{attr} > {val}\\ngroup by\\n    n_name,\\n    {attr}\\norder by\\n    revenue desc\\n;\", 'tpch')   3\n",
        "exec: "
       ]
      },
      {
       "output_type": "stream",
       "stream": "stdout",
       "text": [
        " (\"\\nselect\\n    n_name,\\n    nation.{attr} as {attr},\\n    sum(l_extendedprice * (1 - l_discount)) as revenue,\\n    (sum(l_extendedprice * (1 - l_discount))) / nation.{attr} as revenue_to_{attr}\\nfrom\\n    customer,\\n    orders,\\n    lineitem,\\n    supplier,\\n    nation\\nwhere\\n    c_custkey = o_custkey\\n    and l_orderkey = o_orderkey\\n    and l_suppkey = s_suppkey\\n    and c_nationkey = s_nationkey\\n    and s_nationkey = n_nationkey\\n    and o_orderdate >= date '1994-01-01'\\n    and o_orderdate < date '1994-01-01' + interval '1 year'\\n    and nation.{attr} > {val}\\ngroup by\\n    n_name,\\n    {attr}\\norder by\\n    revenue desc\\n;\", 'tpch')   5\n",
        "exec: "
       ]
      },
      {
       "output_type": "stream",
       "stream": "stdout",
       "text": [
        " (\"\\nselect\\n    n_name,\\n    nation.{attr} as {attr},\\n    sum(l_extendedprice * (1 - l_discount)) as revenue,\\n    (sum(l_extendedprice * (1 - l_discount))) / nation.{attr} as revenue_to_{attr}\\nfrom\\n    customer,\\n    orders,\\n    lineitem,\\n    supplier,\\n    nation\\nwhere\\n    c_custkey = o_custkey\\n    and l_orderkey = o_orderkey\\n    and l_suppkey = s_suppkey\\n    and c_nationkey = s_nationkey\\n    and s_nationkey = n_nationkey\\n    and o_orderdate >= date '1994-01-01'\\n    and o_orderdate < date '1994-01-01' + interval '1 year'\\n    and nation.{attr} > {val}\\ngroup by\\n    n_name,\\n    {attr}\\norder by\\n    revenue desc\\n;\", 'tpch')   10\n",
        "DONE: s_name"
       ]
      },
      {
       "output_type": "stream",
       "stream": "stdout",
       "text": [
        " bigOmegaDynamic__population_100000000\n",
        "\n",
        "Flags: {<Flags.FORCE_BIG_OMEGA_BEFORE_AGG: 'enable_force_big_omega_before_agg'>: True, <Flags.PULL_UP_SELECTION: 'enable_pull_up_selection'>: True, <Flags.DYNAMIC_OMEGA: 'enable_dynamic_omega'>: True, <Flags.REOPTIMIZATION: 'enable_reoptimization'>: True, <Flags.PRESELECTION: 'enable_preselection'>: True, <Flags.STATIC_REOPTIMIZATION: 'enable_static_reoptimization'>: True, <Flags.REA: 'enable_rea'>: True, <Flags.BIG_OMEGA: 'enable_big_omega'>: True}\n",
        "exec:  (\"\\nselect\\n    n_name,\\n    nation.{attr} as {attr},\\n    sum(l_extendedprice * (1 - l_discount)) as revenue,\\n    (sum(l_extendedprice * (1 - l_discount))) / nation.{attr} as revenue_to_{attr}\\nfrom\\n    customer,\\n    orders,\\n    lineitem,\\n    supplier,\\n    nation\\nwhere\\n    c_custkey = o_custkey\\n    and l_orderkey = o_orderkey\\n    and l_suppkey = s_suppkey\\n    and c_nationkey = s_nationkey\\n    and s_nationkey = n_nationkey\\n    and o_orderdate >= date '1994-01-01'\\n    and o_orderdate < date '1994-01-01' + interval '1 year'\\n    and nation.{attr} > {val}\\ngroup by\\n    n_name,\\n    {attr}\\norder by\\n    revenue desc\\n;\", 'tpch')   1\n",
        "exec: "
       ]
      },
      {
       "output_type": "stream",
       "stream": "stdout",
       "text": [
        " (\"\\nselect\\n    n_name,\\n    nation.{attr} as {attr},\\n    sum(l_extendedprice * (1 - l_discount)) as revenue,\\n    (sum(l_extendedprice * (1 - l_discount))) / nation.{attr} as revenue_to_{attr}\\nfrom\\n    customer,\\n    orders,\\n    lineitem,\\n    supplier,\\n    nation\\nwhere\\n    c_custkey = o_custkey\\n    and l_orderkey = o_orderkey\\n    and l_suppkey = s_suppkey\\n    and c_nationkey = s_nationkey\\n    and s_nationkey = n_nationkey\\n    and o_orderdate >= date '1994-01-01'\\n    and o_orderdate < date '1994-01-01' + interval '1 year'\\n    and nation.{attr} > {val}\\ngroup by\\n    n_name,\\n    {attr}\\norder by\\n    revenue desc\\n;\", 'tpch')   3\n",
        "exec: "
       ]
      },
      {
       "output_type": "stream",
       "stream": "stdout",
       "text": [
        " (\"\\nselect\\n    n_name,\\n    nation.{attr} as {attr},\\n    sum(l_extendedprice * (1 - l_discount)) as revenue,\\n    (sum(l_extendedprice * (1 - l_discount))) / nation.{attr} as revenue_to_{attr}\\nfrom\\n    customer,\\n    orders,\\n    lineitem,\\n    supplier,\\n    nation\\nwhere\\n    c_custkey = o_custkey\\n    and l_orderkey = o_orderkey\\n    and l_suppkey = s_suppkey\\n    and c_nationkey = s_nationkey\\n    and s_nationkey = n_nationkey\\n    and o_orderdate >= date '1994-01-01'\\n    and o_orderdate < date '1994-01-01' + interval '1 year'\\n    and nation.{attr} > {val}\\ngroup by\\n    n_name,\\n    {attr}\\norder by\\n    revenue desc\\n;\", 'tpch')   5\n",
        "exec: "
       ]
      },
      {
       "output_type": "stream",
       "stream": "stdout",
       "text": [
        " (\"\\nselect\\n    n_name,\\n    nation.{attr} as {attr},\\n    sum(l_extendedprice * (1 - l_discount)) as revenue,\\n    (sum(l_extendedprice * (1 - l_discount))) / nation.{attr} as revenue_to_{attr}\\nfrom\\n    customer,\\n    orders,\\n    lineitem,\\n    supplier,\\n    nation\\nwhere\\n    c_custkey = o_custkey\\n    and l_orderkey = o_orderkey\\n    and l_suppkey = s_suppkey\\n    and c_nationkey = s_nationkey\\n    and s_nationkey = n_nationkey\\n    and o_orderdate >= date '1994-01-01'\\n    and o_orderdate < date '1994-01-01' + interval '1 year'\\n    and nation.{attr} > {val}\\ngroup by\\n    n_name,\\n    {attr}\\norder by\\n    revenue desc\\n;\", 'tpch')   10\n",
        "DONE: s_name"
       ]
      },
      {
       "output_type": "stream",
       "stream": "stdout",
       "text": [
        " bigOmegaDynamicStaticReOptPreSel__gdp_60\n",
        "\n",
        "Flags: {<Flags.FORCE_BIG_OMEGA_BEFORE_AGG: 'enable_force_big_omega_before_agg'>: True, <Flags.PULL_UP_SELECTION: 'enable_pull_up_selection'>: True, <Flags.DYNAMIC_OMEGA: 'enable_dynamic_omega'>: True, <Flags.REOPTIMIZATION: 'enable_reoptimization'>: True, <Flags.PRESELECTION: 'enable_preselection'>: True, <Flags.STATIC_REOPTIMIZATION: 'enable_static_reoptimization'>: True, <Flags.REA: 'enable_rea'>: True, <Flags.BIG_OMEGA: 'enable_big_omega'>: True}\n",
        "exec:  (\"\\nselect\\n    n_name,\\n    nation.{attr} as {attr},\\n    sum(l_extendedprice * (1 - l_discount)) as revenue,\\n    (sum(l_extendedprice * (1 - l_discount))) / nation.{attr} as revenue_to_{attr}\\nfrom\\n    customer,\\n    orders,\\n    lineitem,\\n    supplier,\\n    nation\\nwhere\\n    c_custkey = o_custkey\\n    and l_orderkey = o_orderkey\\n    and l_suppkey = s_suppkey\\n    and c_nationkey = s_nationkey\\n    and s_nationkey = n_nationkey\\n    and o_orderdate >= date '1994-01-01'\\n    and o_orderdate < date '1994-01-01' + interval '1 year'\\n    and nation.{attr} > {val}\\ngroup by\\n    n_name,\\n    {attr}\\norder by\\n    revenue desc\\n;\", 'tpch')   1\n",
        "exec: "
       ]
      },
      {
       "output_type": "stream",
       "stream": "stdout",
       "text": [
        " (\"\\nselect\\n    n_name,\\n    nation.{attr} as {attr},\\n    sum(l_extendedprice * (1 - l_discount)) as revenue,\\n    (sum(l_extendedprice * (1 - l_discount))) / nation.{attr} as revenue_to_{attr}\\nfrom\\n    customer,\\n    orders,\\n    lineitem,\\n    supplier,\\n    nation\\nwhere\\n    c_custkey = o_custkey\\n    and l_orderkey = o_orderkey\\n    and l_suppkey = s_suppkey\\n    and c_nationkey = s_nationkey\\n    and s_nationkey = n_nationkey\\n    and o_orderdate >= date '1994-01-01'\\n    and o_orderdate < date '1994-01-01' + interval '1 year'\\n    and nation.{attr} > {val}\\ngroup by\\n    n_name,\\n    {attr}\\norder by\\n    revenue desc\\n;\", 'tpch')   3\n",
        "exec: "
       ]
      },
      {
       "output_type": "stream",
       "stream": "stdout",
       "text": [
        " (\"\\nselect\\n    n_name,\\n    nation.{attr} as {attr},\\n    sum(l_extendedprice * (1 - l_discount)) as revenue,\\n    (sum(l_extendedprice * (1 - l_discount))) / nation.{attr} as revenue_to_{attr}\\nfrom\\n    customer,\\n    orders,\\n    lineitem,\\n    supplier,\\n    nation\\nwhere\\n    c_custkey = o_custkey\\n    and l_orderkey = o_orderkey\\n    and l_suppkey = s_suppkey\\n    and c_nationkey = s_nationkey\\n    and s_nationkey = n_nationkey\\n    and o_orderdate >= date '1994-01-01'\\n    and o_orderdate < date '1994-01-01' + interval '1 year'\\n    and nation.{attr} > {val}\\ngroup by\\n    n_name,\\n    {attr}\\norder by\\n    revenue desc\\n;\", 'tpch')   5\n",
        "exec: "
       ]
      },
      {
       "output_type": "stream",
       "stream": "stdout",
       "text": [
        " (\"\\nselect\\n    n_name,\\n    nation.{attr} as {attr},\\n    sum(l_extendedprice * (1 - l_discount)) as revenue,\\n    (sum(l_extendedprice * (1 - l_discount))) / nation.{attr} as revenue_to_{attr}\\nfrom\\n    customer,\\n    orders,\\n    lineitem,\\n    supplier,\\n    nation\\nwhere\\n    c_custkey = o_custkey\\n    and l_orderkey = o_orderkey\\n    and l_suppkey = s_suppkey\\n    and c_nationkey = s_nationkey\\n    and s_nationkey = n_nationkey\\n    and o_orderdate >= date '1994-01-01'\\n    and o_orderdate < date '1994-01-01' + interval '1 year'\\n    and nation.{attr} > {val}\\ngroup by\\n    n_name,\\n    {attr}\\norder by\\n    revenue desc\\n;\", 'tpch')   10\n",
        "DONE: s_name"
       ]
      },
      {
       "output_type": "stream",
       "stream": "stdout",
       "text": [
        " bigOmegaDynamicStaticReOptPreSel__gdp_3\n",
        "\n",
        "Flags: {<Flags.FORCE_BIG_OMEGA_BEFORE_AGG: 'enable_force_big_omega_before_agg'>: True, <Flags.PULL_UP_SELECTION: 'enable_pull_up_selection'>: True, <Flags.DYNAMIC_OMEGA: 'enable_dynamic_omega'>: True, <Flags.REOPTIMIZATION: 'enable_reoptimization'>: True, <Flags.PRESELECTION: 'enable_preselection'>: True, <Flags.STATIC_REOPTIMIZATION: 'enable_static_reoptimization'>: True, <Flags.REA: 'enable_rea'>: True, <Flags.BIG_OMEGA: 'enable_big_omega'>: True}\n",
        "exec:  (\"\\nselect\\n    n_name,\\n    nation.{attr} as {attr},\\n    sum(l_extendedprice * (1 - l_discount)) as revenue,\\n    (sum(l_extendedprice * (1 - l_discount))) / nation.{attr} as revenue_to_{attr}\\nfrom\\n    customer,\\n    orders,\\n    lineitem,\\n    supplier,\\n    nation\\nwhere\\n    c_custkey = o_custkey\\n    and l_orderkey = o_orderkey\\n    and l_suppkey = s_suppkey\\n    and c_nationkey = s_nationkey\\n    and s_nationkey = n_nationkey\\n    and o_orderdate >= date '1994-01-01'\\n    and o_orderdate < date '1994-01-01' + interval '1 year'\\n    and nation.{attr} > {val}\\ngroup by\\n    n_name,\\n    {attr}\\norder by\\n    revenue desc\\n;\", 'tpch')   1\n",
        "exec: "
       ]
      },
      {
       "output_type": "stream",
       "stream": "stdout",
       "text": [
        " (\"\\nselect\\n    n_name,\\n    nation.{attr} as {attr},\\n    sum(l_extendedprice * (1 - l_discount)) as revenue,\\n    (sum(l_extendedprice * (1 - l_discount))) / nation.{attr} as revenue_to_{attr}\\nfrom\\n    customer,\\n    orders,\\n    lineitem,\\n    supplier,\\n    nation\\nwhere\\n    c_custkey = o_custkey\\n    and l_orderkey = o_orderkey\\n    and l_suppkey = s_suppkey\\n    and c_nationkey = s_nationkey\\n    and s_nationkey = n_nationkey\\n    and o_orderdate >= date '1994-01-01'\\n    and o_orderdate < date '1994-01-01' + interval '1 year'\\n    and nation.{attr} > {val}\\ngroup by\\n    n_name,\\n    {attr}\\norder by\\n    revenue desc\\n;\", 'tpch')   3\n",
        "exec: "
       ]
      },
      {
       "output_type": "stream",
       "stream": "stdout",
       "text": [
        " (\"\\nselect\\n    n_name,\\n    nation.{attr} as {attr},\\n    sum(l_extendedprice * (1 - l_discount)) as revenue,\\n    (sum(l_extendedprice * (1 - l_discount))) / nation.{attr} as revenue_to_{attr}\\nfrom\\n    customer,\\n    orders,\\n    lineitem,\\n    supplier,\\n    nation\\nwhere\\n    c_custkey = o_custkey\\n    and l_orderkey = o_orderkey\\n    and l_suppkey = s_suppkey\\n    and c_nationkey = s_nationkey\\n    and s_nationkey = n_nationkey\\n    and o_orderdate >= date '1994-01-01'\\n    and o_orderdate < date '1994-01-01' + interval '1 year'\\n    and nation.{attr} > {val}\\ngroup by\\n    n_name,\\n    {attr}\\norder by\\n    revenue desc\\n;\", 'tpch')   5\n",
        "exec: "
       ]
      },
      {
       "output_type": "stream",
       "stream": "stdout",
       "text": [
        " (\"\\nselect\\n    n_name,\\n    nation.{attr} as {attr},\\n    sum(l_extendedprice * (1 - l_discount)) as revenue,\\n    (sum(l_extendedprice * (1 - l_discount))) / nation.{attr} as revenue_to_{attr}\\nfrom\\n    customer,\\n    orders,\\n    lineitem,\\n    supplier,\\n    nation\\nwhere\\n    c_custkey = o_custkey\\n    and l_orderkey = o_orderkey\\n    and l_suppkey = s_suppkey\\n    and c_nationkey = s_nationkey\\n    and s_nationkey = n_nationkey\\n    and o_orderdate >= date '1994-01-01'\\n    and o_orderdate < date '1994-01-01' + interval '1 year'\\n    and nation.{attr} > {val}\\ngroup by\\n    n_name,\\n    {attr}\\norder by\\n    revenue desc\\n;\", 'tpch')   10\n",
        "DONE: s_name"
       ]
      },
      {
       "output_type": "stream",
       "stream": "stdout",
       "text": [
        " bigOmegaDynamicStaticReOptPreSel__population_10000000\n",
        "\n",
        "Flags: {<Flags.FORCE_BIG_OMEGA_BEFORE_AGG: 'enable_force_big_omega_before_agg'>: True, <Flags.PULL_UP_SELECTION: 'enable_pull_up_selection'>: True, <Flags.DYNAMIC_OMEGA: 'enable_dynamic_omega'>: True, <Flags.REOPTIMIZATION: 'enable_reoptimization'>: True, <Flags.PRESELECTION: 'enable_preselection'>: True, <Flags.STATIC_REOPTIMIZATION: 'enable_static_reoptimization'>: True, <Flags.REA: 'enable_rea'>: True, <Flags.BIG_OMEGA: 'enable_big_omega'>: True}\n",
        "exec:  (\"\\nselect\\n    n_name,\\n    nation.{attr} as {attr},\\n    sum(l_extendedprice * (1 - l_discount)) as revenue,\\n    (sum(l_extendedprice * (1 - l_discount))) / nation.{attr} as revenue_to_{attr}\\nfrom\\n    customer,\\n    orders,\\n    lineitem,\\n    supplier,\\n    nation\\nwhere\\n    c_custkey = o_custkey\\n    and l_orderkey = o_orderkey\\n    and l_suppkey = s_suppkey\\n    and c_nationkey = s_nationkey\\n    and s_nationkey = n_nationkey\\n    and o_orderdate >= date '1994-01-01'\\n    and o_orderdate < date '1994-01-01' + interval '1 year'\\n    and nation.{attr} > {val}\\ngroup by\\n    n_name,\\n    {attr}\\norder by\\n    revenue desc\\n;\", 'tpch')   1\n",
        "exec: "
       ]
      },
      {
       "output_type": "stream",
       "stream": "stdout",
       "text": [
        " (\"\\nselect\\n    n_name,\\n    nation.{attr} as {attr},\\n    sum(l_extendedprice * (1 - l_discount)) as revenue,\\n    (sum(l_extendedprice * (1 - l_discount))) / nation.{attr} as revenue_to_{attr}\\nfrom\\n    customer,\\n    orders,\\n    lineitem,\\n    supplier,\\n    nation\\nwhere\\n    c_custkey = o_custkey\\n    and l_orderkey = o_orderkey\\n    and l_suppkey = s_suppkey\\n    and c_nationkey = s_nationkey\\n    and s_nationkey = n_nationkey\\n    and o_orderdate >= date '1994-01-01'\\n    and o_orderdate < date '1994-01-01' + interval '1 year'\\n    and nation.{attr} > {val}\\ngroup by\\n    n_name,\\n    {attr}\\norder by\\n    revenue desc\\n;\", 'tpch')   3\n",
        "exec: "
       ]
      },
      {
       "output_type": "stream",
       "stream": "stdout",
       "text": [
        " (\"\\nselect\\n    n_name,\\n    nation.{attr} as {attr},\\n    sum(l_extendedprice * (1 - l_discount)) as revenue,\\n    (sum(l_extendedprice * (1 - l_discount))) / nation.{attr} as revenue_to_{attr}\\nfrom\\n    customer,\\n    orders,\\n    lineitem,\\n    supplier,\\n    nation\\nwhere\\n    c_custkey = o_custkey\\n    and l_orderkey = o_orderkey\\n    and l_suppkey = s_suppkey\\n    and c_nationkey = s_nationkey\\n    and s_nationkey = n_nationkey\\n    and o_orderdate >= date '1994-01-01'\\n    and o_orderdate < date '1994-01-01' + interval '1 year'\\n    and nation.{attr} > {val}\\ngroup by\\n    n_name,\\n    {attr}\\norder by\\n    revenue desc\\n;\", 'tpch')   5\n",
        "exec: "
       ]
      },
      {
       "output_type": "stream",
       "stream": "stdout",
       "text": [
        " (\"\\nselect\\n    n_name,\\n    nation.{attr} as {attr},\\n    sum(l_extendedprice * (1 - l_discount)) as revenue,\\n    (sum(l_extendedprice * (1 - l_discount))) / nation.{attr} as revenue_to_{attr}\\nfrom\\n    customer,\\n    orders,\\n    lineitem,\\n    supplier,\\n    nation\\nwhere\\n    c_custkey = o_custkey\\n    and l_orderkey = o_orderkey\\n    and l_suppkey = s_suppkey\\n    and c_nationkey = s_nationkey\\n    and s_nationkey = n_nationkey\\n    and o_orderdate >= date '1994-01-01'\\n    and o_orderdate < date '1994-01-01' + interval '1 year'\\n    and nation.{attr} > {val}\\ngroup by\\n    n_name,\\n    {attr}\\norder by\\n    revenue desc\\n;\", 'tpch')   10\n",
        "DONE: s_name"
       ]
      },
      {
       "output_type": "stream",
       "stream": "stdout",
       "text": [
        " bigOmegaDynamicStaticReOptPreSel__population_100000000\n",
        "\n",
        "Flags: {<Flags.FORCE_BIG_OMEGA_BEFORE_AGG: 'enable_force_big_omega_before_agg'>: True, <Flags.PULL_UP_SELECTION: 'enable_pull_up_selection'>: True, <Flags.REOPTIMIZATION: 'enable_reoptimization'>: True, <Flags.STATIC_REOPTIMIZATION: 'enable_static_reoptimization'>: True, <Flags.DYNAMIC_OMEGA: 'enable_dynamic_omega'>: True, <Flags.REA: 'enable_rea'>: True, <Flags.BIG_OMEGA: 'enable_big_omega'>: True}\n",
        "exec:  (\"\\nselect\\n    n_name,\\n    nation.{attr} as {attr},\\n    sum(l_extendedprice * (1 - l_discount)) as revenue,\\n    (sum(l_extendedprice * (1 - l_discount))) / nation.{attr} as revenue_to_{attr}\\nfrom\\n    customer,\\n    orders,\\n    lineitem,\\n    supplier,\\n    nation\\nwhere\\n    c_custkey = o_custkey\\n    and l_orderkey = o_orderkey\\n    and l_suppkey = s_suppkey\\n    and c_nationkey = s_nationkey\\n    and s_nationkey = n_nationkey\\n    and o_orderdate >= date '1994-01-01'\\n    and o_orderdate < date '1994-01-01' + interval '1 year'\\n    and nation.{attr} > {val}\\ngroup by\\n    n_name,\\n    {attr}\\norder by\\n    revenue desc\\n;\", 'tpch')   1\n",
        "exec: "
       ]
      },
      {
       "output_type": "stream",
       "stream": "stdout",
       "text": [
        " (\"\\nselect\\n    n_name,\\n    nation.{attr} as {attr},\\n    sum(l_extendedprice * (1 - l_discount)) as revenue,\\n    (sum(l_extendedprice * (1 - l_discount))) / nation.{attr} as revenue_to_{attr}\\nfrom\\n    customer,\\n    orders,\\n    lineitem,\\n    supplier,\\n    nation\\nwhere\\n    c_custkey = o_custkey\\n    and l_orderkey = o_orderkey\\n    and l_suppkey = s_suppkey\\n    and c_nationkey = s_nationkey\\n    and s_nationkey = n_nationkey\\n    and o_orderdate >= date '1994-01-01'\\n    and o_orderdate < date '1994-01-01' + interval '1 year'\\n    and nation.{attr} > {val}\\ngroup by\\n    n_name,\\n    {attr}\\norder by\\n    revenue desc\\n;\", 'tpch')   3\n",
        "exec: "
       ]
      },
      {
       "output_type": "stream",
       "stream": "stdout",
       "text": [
        " (\"\\nselect\\n    n_name,\\n    nation.{attr} as {attr},\\n    sum(l_extendedprice * (1 - l_discount)) as revenue,\\n    (sum(l_extendedprice * (1 - l_discount))) / nation.{attr} as revenue_to_{attr}\\nfrom\\n    customer,\\n    orders,\\n    lineitem,\\n    supplier,\\n    nation\\nwhere\\n    c_custkey = o_custkey\\n    and l_orderkey = o_orderkey\\n    and l_suppkey = s_suppkey\\n    and c_nationkey = s_nationkey\\n    and s_nationkey = n_nationkey\\n    and o_orderdate >= date '1994-01-01'\\n    and o_orderdate < date '1994-01-01' + interval '1 year'\\n    and nation.{attr} > {val}\\ngroup by\\n    n_name,\\n    {attr}\\norder by\\n    revenue desc\\n;\", 'tpch')   5\n",
        "exec: "
       ]
      },
      {
       "output_type": "stream",
       "stream": "stdout",
       "text": [
        " (\"\\nselect\\n    n_name,\\n    nation.{attr} as {attr},\\n    sum(l_extendedprice * (1 - l_discount)) as revenue,\\n    (sum(l_extendedprice * (1 - l_discount))) / nation.{attr} as revenue_to_{attr}\\nfrom\\n    customer,\\n    orders,\\n    lineitem,\\n    supplier,\\n    nation\\nwhere\\n    c_custkey = o_custkey\\n    and l_orderkey = o_orderkey\\n    and l_suppkey = s_suppkey\\n    and c_nationkey = s_nationkey\\n    and s_nationkey = n_nationkey\\n    and o_orderdate >= date '1994-01-01'\\n    and o_orderdate < date '1994-01-01' + interval '1 year'\\n    and nation.{attr} > {val}\\ngroup by\\n    n_name,\\n    {attr}\\norder by\\n    revenue desc\\n;\", 'tpch')   10\n",
        "DONE: s_name"
       ]
      },
      {
       "output_type": "stream",
       "stream": "stdout",
       "text": [
        " bigOmegaDynamicStaticReOpt__gdp_60\n",
        "\n",
        "Flags: {<Flags.FORCE_BIG_OMEGA_BEFORE_AGG: 'enable_force_big_omega_before_agg'>: True, <Flags.PULL_UP_SELECTION: 'enable_pull_up_selection'>: True, <Flags.REOPTIMIZATION: 'enable_reoptimization'>: True, <Flags.STATIC_REOPTIMIZATION: 'enable_static_reoptimization'>: True, <Flags.DYNAMIC_OMEGA: 'enable_dynamic_omega'>: True, <Flags.REA: 'enable_rea'>: True, <Flags.BIG_OMEGA: 'enable_big_omega'>: True}\n",
        "exec:  (\"\\nselect\\n    n_name,\\n    nation.{attr} as {attr},\\n    sum(l_extendedprice * (1 - l_discount)) as revenue,\\n    (sum(l_extendedprice * (1 - l_discount))) / nation.{attr} as revenue_to_{attr}\\nfrom\\n    customer,\\n    orders,\\n    lineitem,\\n    supplier,\\n    nation\\nwhere\\n    c_custkey = o_custkey\\n    and l_orderkey = o_orderkey\\n    and l_suppkey = s_suppkey\\n    and c_nationkey = s_nationkey\\n    and s_nationkey = n_nationkey\\n    and o_orderdate >= date '1994-01-01'\\n    and o_orderdate < date '1994-01-01' + interval '1 year'\\n    and nation.{attr} > {val}\\ngroup by\\n    n_name,\\n    {attr}\\norder by\\n    revenue desc\\n;\", 'tpch')   1\n",
        "exec: "
       ]
      },
      {
       "output_type": "stream",
       "stream": "stdout",
       "text": [
        " (\"\\nselect\\n    n_name,\\n    nation.{attr} as {attr},\\n    sum(l_extendedprice * (1 - l_discount)) as revenue,\\n    (sum(l_extendedprice * (1 - l_discount))) / nation.{attr} as revenue_to_{attr}\\nfrom\\n    customer,\\n    orders,\\n    lineitem,\\n    supplier,\\n    nation\\nwhere\\n    c_custkey = o_custkey\\n    and l_orderkey = o_orderkey\\n    and l_suppkey = s_suppkey\\n    and c_nationkey = s_nationkey\\n    and s_nationkey = n_nationkey\\n    and o_orderdate >= date '1994-01-01'\\n    and o_orderdate < date '1994-01-01' + interval '1 year'\\n    and nation.{attr} > {val}\\ngroup by\\n    n_name,\\n    {attr}\\norder by\\n    revenue desc\\n;\", 'tpch')   3\n",
        "exec: "
       ]
      },
      {
       "output_type": "stream",
       "stream": "stdout",
       "text": [
        " (\"\\nselect\\n    n_name,\\n    nation.{attr} as {attr},\\n    sum(l_extendedprice * (1 - l_discount)) as revenue,\\n    (sum(l_extendedprice * (1 - l_discount))) / nation.{attr} as revenue_to_{attr}\\nfrom\\n    customer,\\n    orders,\\n    lineitem,\\n    supplier,\\n    nation\\nwhere\\n    c_custkey = o_custkey\\n    and l_orderkey = o_orderkey\\n    and l_suppkey = s_suppkey\\n    and c_nationkey = s_nationkey\\n    and s_nationkey = n_nationkey\\n    and o_orderdate >= date '1994-01-01'\\n    and o_orderdate < date '1994-01-01' + interval '1 year'\\n    and nation.{attr} > {val}\\ngroup by\\n    n_name,\\n    {attr}\\norder by\\n    revenue desc\\n;\", 'tpch')   5\n",
        "exec: "
       ]
      },
      {
       "output_type": "stream",
       "stream": "stdout",
       "text": [
        " (\"\\nselect\\n    n_name,\\n    nation.{attr} as {attr},\\n    sum(l_extendedprice * (1 - l_discount)) as revenue,\\n    (sum(l_extendedprice * (1 - l_discount))) / nation.{attr} as revenue_to_{attr}\\nfrom\\n    customer,\\n    orders,\\n    lineitem,\\n    supplier,\\n    nation\\nwhere\\n    c_custkey = o_custkey\\n    and l_orderkey = o_orderkey\\n    and l_suppkey = s_suppkey\\n    and c_nationkey = s_nationkey\\n    and s_nationkey = n_nationkey\\n    and o_orderdate >= date '1994-01-01'\\n    and o_orderdate < date '1994-01-01' + interval '1 year'\\n    and nation.{attr} > {val}\\ngroup by\\n    n_name,\\n    {attr}\\norder by\\n    revenue desc\\n;\", 'tpch')   10\n",
        "DONE: s_name"
       ]
      },
      {
       "output_type": "stream",
       "stream": "stdout",
       "text": [
        " bigOmegaDynamicStaticReOpt__gdp_3\n",
        "\n",
        "Flags: {<Flags.FORCE_BIG_OMEGA_BEFORE_AGG: 'enable_force_big_omega_before_agg'>: True, <Flags.PULL_UP_SELECTION: 'enable_pull_up_selection'>: True, <Flags.REOPTIMIZATION: 'enable_reoptimization'>: True, <Flags.STATIC_REOPTIMIZATION: 'enable_static_reoptimization'>: True, <Flags.DYNAMIC_OMEGA: 'enable_dynamic_omega'>: True, <Flags.REA: 'enable_rea'>: True, <Flags.BIG_OMEGA: 'enable_big_omega'>: True}\n",
        "exec:  (\"\\nselect\\n    n_name,\\n    nation.{attr} as {attr},\\n    sum(l_extendedprice * (1 - l_discount)) as revenue,\\n    (sum(l_extendedprice * (1 - l_discount))) / nation.{attr} as revenue_to_{attr}\\nfrom\\n    customer,\\n    orders,\\n    lineitem,\\n    supplier,\\n    nation\\nwhere\\n    c_custkey = o_custkey\\n    and l_orderkey = o_orderkey\\n    and l_suppkey = s_suppkey\\n    and c_nationkey = s_nationkey\\n    and s_nationkey = n_nationkey\\n    and o_orderdate >= date '1994-01-01'\\n    and o_orderdate < date '1994-01-01' + interval '1 year'\\n    and nation.{attr} > {val}\\ngroup by\\n    n_name,\\n    {attr}\\norder by\\n    revenue desc\\n;\", 'tpch')   1\n",
        "exec: "
       ]
      },
      {
       "output_type": "stream",
       "stream": "stdout",
       "text": [
        " (\"\\nselect\\n    n_name,\\n    nation.{attr} as {attr},\\n    sum(l_extendedprice * (1 - l_discount)) as revenue,\\n    (sum(l_extendedprice * (1 - l_discount))) / nation.{attr} as revenue_to_{attr}\\nfrom\\n    customer,\\n    orders,\\n    lineitem,\\n    supplier,\\n    nation\\nwhere\\n    c_custkey = o_custkey\\n    and l_orderkey = o_orderkey\\n    and l_suppkey = s_suppkey\\n    and c_nationkey = s_nationkey\\n    and s_nationkey = n_nationkey\\n    and o_orderdate >= date '1994-01-01'\\n    and o_orderdate < date '1994-01-01' + interval '1 year'\\n    and nation.{attr} > {val}\\ngroup by\\n    n_name,\\n    {attr}\\norder by\\n    revenue desc\\n;\", 'tpch')   3\n",
        "exec: "
       ]
      },
      {
       "output_type": "stream",
       "stream": "stdout",
       "text": [
        " (\"\\nselect\\n    n_name,\\n    nation.{attr} as {attr},\\n    sum(l_extendedprice * (1 - l_discount)) as revenue,\\n    (sum(l_extendedprice * (1 - l_discount))) / nation.{attr} as revenue_to_{attr}\\nfrom\\n    customer,\\n    orders,\\n    lineitem,\\n    supplier,\\n    nation\\nwhere\\n    c_custkey = o_custkey\\n    and l_orderkey = o_orderkey\\n    and l_suppkey = s_suppkey\\n    and c_nationkey = s_nationkey\\n    and s_nationkey = n_nationkey\\n    and o_orderdate >= date '1994-01-01'\\n    and o_orderdate < date '1994-01-01' + interval '1 year'\\n    and nation.{attr} > {val}\\ngroup by\\n    n_name,\\n    {attr}\\norder by\\n    revenue desc\\n;\", 'tpch')   5\n",
        "exec: "
       ]
      },
      {
       "output_type": "stream",
       "stream": "stdout",
       "text": [
        " (\"\\nselect\\n    n_name,\\n    nation.{attr} as {attr},\\n    sum(l_extendedprice * (1 - l_discount)) as revenue,\\n    (sum(l_extendedprice * (1 - l_discount))) / nation.{attr} as revenue_to_{attr}\\nfrom\\n    customer,\\n    orders,\\n    lineitem,\\n    supplier,\\n    nation\\nwhere\\n    c_custkey = o_custkey\\n    and l_orderkey = o_orderkey\\n    and l_suppkey = s_suppkey\\n    and c_nationkey = s_nationkey\\n    and s_nationkey = n_nationkey\\n    and o_orderdate >= date '1994-01-01'\\n    and o_orderdate < date '1994-01-01' + interval '1 year'\\n    and nation.{attr} > {val}\\ngroup by\\n    n_name,\\n    {attr}\\norder by\\n    revenue desc\\n;\", 'tpch')   10\n",
        "DONE: s_name"
       ]
      },
      {
       "output_type": "stream",
       "stream": "stdout",
       "text": [
        " bigOmegaDynamicStaticReOpt__population_10000000\n",
        "\n",
        "Flags: {<Flags.FORCE_BIG_OMEGA_BEFORE_AGG: 'enable_force_big_omega_before_agg'>: True, <Flags.PULL_UP_SELECTION: 'enable_pull_up_selection'>: True, <Flags.REOPTIMIZATION: 'enable_reoptimization'>: True, <Flags.STATIC_REOPTIMIZATION: 'enable_static_reoptimization'>: True, <Flags.DYNAMIC_OMEGA: 'enable_dynamic_omega'>: True, <Flags.REA: 'enable_rea'>: True, <Flags.BIG_OMEGA: 'enable_big_omega'>: True}\n",
        "exec:  (\"\\nselect\\n    n_name,\\n    nation.{attr} as {attr},\\n    sum(l_extendedprice * (1 - l_discount)) as revenue,\\n    (sum(l_extendedprice * (1 - l_discount))) / nation.{attr} as revenue_to_{attr}\\nfrom\\n    customer,\\n    orders,\\n    lineitem,\\n    supplier,\\n    nation\\nwhere\\n    c_custkey = o_custkey\\n    and l_orderkey = o_orderkey\\n    and l_suppkey = s_suppkey\\n    and c_nationkey = s_nationkey\\n    and s_nationkey = n_nationkey\\n    and o_orderdate >= date '1994-01-01'\\n    and o_orderdate < date '1994-01-01' + interval '1 year'\\n    and nation.{attr} > {val}\\ngroup by\\n    n_name,\\n    {attr}\\norder by\\n    revenue desc\\n;\", 'tpch')   1\n",
        "exec: "
       ]
      },
      {
       "output_type": "stream",
       "stream": "stdout",
       "text": [
        " (\"\\nselect\\n    n_name,\\n    nation.{attr} as {attr},\\n    sum(l_extendedprice * (1 - l_discount)) as revenue,\\n    (sum(l_extendedprice * (1 - l_discount))) / nation.{attr} as revenue_to_{attr}\\nfrom\\n    customer,\\n    orders,\\n    lineitem,\\n    supplier,\\n    nation\\nwhere\\n    c_custkey = o_custkey\\n    and l_orderkey = o_orderkey\\n    and l_suppkey = s_suppkey\\n    and c_nationkey = s_nationkey\\n    and s_nationkey = n_nationkey\\n    and o_orderdate >= date '1994-01-01'\\n    and o_orderdate < date '1994-01-01' + interval '1 year'\\n    and nation.{attr} > {val}\\ngroup by\\n    n_name,\\n    {attr}\\norder by\\n    revenue desc\\n;\", 'tpch')   3\n",
        "exec: "
       ]
      },
      {
       "output_type": "stream",
       "stream": "stdout",
       "text": [
        " (\"\\nselect\\n    n_name,\\n    nation.{attr} as {attr},\\n    sum(l_extendedprice * (1 - l_discount)) as revenue,\\n    (sum(l_extendedprice * (1 - l_discount))) / nation.{attr} as revenue_to_{attr}\\nfrom\\n    customer,\\n    orders,\\n    lineitem,\\n    supplier,\\n    nation\\nwhere\\n    c_custkey = o_custkey\\n    and l_orderkey = o_orderkey\\n    and l_suppkey = s_suppkey\\n    and c_nationkey = s_nationkey\\n    and s_nationkey = n_nationkey\\n    and o_orderdate >= date '1994-01-01'\\n    and o_orderdate < date '1994-01-01' + interval '1 year'\\n    and nation.{attr} > {val}\\ngroup by\\n    n_name,\\n    {attr}\\norder by\\n    revenue desc\\n;\", 'tpch')   5\n",
        "exec: "
       ]
      },
      {
       "output_type": "stream",
       "stream": "stdout",
       "text": [
        " (\"\\nselect\\n    n_name,\\n    nation.{attr} as {attr},\\n    sum(l_extendedprice * (1 - l_discount)) as revenue,\\n    (sum(l_extendedprice * (1 - l_discount))) / nation.{attr} as revenue_to_{attr}\\nfrom\\n    customer,\\n    orders,\\n    lineitem,\\n    supplier,\\n    nation\\nwhere\\n    c_custkey = o_custkey\\n    and l_orderkey = o_orderkey\\n    and l_suppkey = s_suppkey\\n    and c_nationkey = s_nationkey\\n    and s_nationkey = n_nationkey\\n    and o_orderdate >= date '1994-01-01'\\n    and o_orderdate < date '1994-01-01' + interval '1 year'\\n    and nation.{attr} > {val}\\ngroup by\\n    n_name,\\n    {attr}\\norder by\\n    revenue desc\\n;\", 'tpch')   10\n",
        "DONE: s_name"
       ]
      },
      {
       "output_type": "stream",
       "stream": "stdout",
       "text": [
        " bigOmegaDynamicStaticReOpt__population_100000000\n",
        "\n"
       ]
      }
     ],
     "prompt_number": 201
    },
    {
     "cell_type": "code",
     "collapsed": true,
     "input": [
      "def to_relation_fragment_real(y):\n",
      "    name,_,attr,pred = y.name.split(\"_\")\n",
      "    y.index.name=\"k\"\n",
      "    y = y.reset_index()\n",
      "\n",
      "    y['method'] = len(y) * [name]\n",
      "    y['attr'] = len(y) * [attr]\n",
      "    y['pred'] = len(y) * [pred]\n",
      "    y = y.rename(columns={y.columns[1]:\"time\"})\n",
      "    return y\n",
      "\n",
      "def universal_df_real(S):\n",
      "    df = pd.concat([to_relation_fragment_real(v) for v in REAL], ignore_index=True).convert_objects(convert_numeric=True)\n",
      "    df = df.set_index([\"k\",\"attr\",\"pred\",\"method\"]).sortlevel().unstack(3)\n",
      "    df.columns = df.columns.droplevel()\n",
      "    return df"
     ],
     "language": "python",
     "metadata": {},
     "outputs": [],
     "prompt_number": 171
    },
    {
     "cell_type": "code",
     "collapsed": true,
     "input": [
      "Z = universal_df_real(REAL)\n",
      "scens = [ScenariosReal.bigOmegaDynamic.value, ScenariosReal.bigOmegaDynamicPreSel.value]\n",
      "#scens = Z.columns\n",
      "Z.loc[(slice(None),\"gdp\",3),scens].plot()\n",
      "Z.loc[(slice(None),\"gdp\",60),scens].plot()\n",
      "Z.loc[(slice(None),\"population\",10000000),scens].plot()\n",
      "Z.loc[(slice(None),\"population\",100000000),scens].plot()"
     ],
     "language": "python",
     "metadata": {},
     "outputs": [
      {
       "metadata": {},
       "output_type": "pyout",
       "prompt_number": 318,
       "text": [
        "<matplotlib.axes.AxesSubplot at 0x4090b10>"
       ]
      },
      {
       "metadata": {},
       "output_type": "display_data",
       "png": "[encoded data removed]",
       "text": [
        "<matplotlib.figure.Figure at 0x3de8810>"
       ]
      },
      {
       "metadata": {},
       "output_type": "display_data",
       "png": "[encoded data removed]",
       "text": [
        "<matplotlib.figure.Figure at 0x4042f90>"
       ]
      },
      {
       "metadata": {},
       "output_type": "display_data",
       "png": "[encoded data removed]",
       "text": [
        "<matplotlib.figure.Figure at 0x3276490>"
       ]
      },
      {
       "metadata": {},
       "output_type": "display_data",
       "png": "[encoded data removed]",
       "text": [
        "<matplotlib.figure.Figure at 0x4050290>"
       ]
      }
     ],
     "prompt_number": 318
    },
    {
     "cell_type": "code",
     "collapsed": false,
     "input": [
      "Z.to_pickle(\"real.pickle\")"
     ],
     "language": "python",
     "metadata": {},
     "outputs": [],
     "prompt_number": 319
    }
   ],
   "metadata": {}
  }
 ]
}